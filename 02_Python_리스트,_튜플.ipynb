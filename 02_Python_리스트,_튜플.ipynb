{
  "nbformat": 4,
  "nbformat_minor": 0,
  "metadata": {
    "colab": {
      "name": "02-Python-리스트, 튜플.ipynb",
      "provenance": [],
      "authorship_tag": "ABX9TyNSbhvtywHsIOfemsy7W/8R",
      "include_colab_link": true
    },
    "kernelspec": {
      "name": "python3",
      "display_name": "Python 3"
    },
    "language_info": {
      "name": "python"
    }
  },
  "cells": [
    {
      "cell_type": "markdown",
      "metadata": {
        "id": "view-in-github",
        "colab_type": "text"
      },
      "source": [
        "<a href=\"https://colab.research.google.com/github/widowon/2021_SummerStudy_Python-DeepLearning/blob/main/02_Python_%EB%A6%AC%EC%8A%A4%ED%8A%B8%2C_%ED%8A%9C%ED%94%8C.ipynb\" target=\"_parent\"><img src=\"https://colab.research.google.com/assets/colab-badge.svg\" alt=\"Open In Colab\"/></a>"
      ]
    },
    {
      "cell_type": "markdown",
      "metadata": {
        "id": "kSi3dXRBDgpj"
      },
      "source": [
        "#시퀀스, 집합형 구조"
      ]
    },
    {
      "cell_type": "markdown",
      "metadata": {
        "id": "RkaK_YyLDjr3"
      },
      "source": [
        "1. 시퀀스  리스트     가변       [1,2,3]\n",
        "2. 시퀀스  튜플       불변       (1,2,3)\n",
        "3. 세트    세트       중복 ㄴ    {1,2,3}\n",
        "4. 맵      딕셔너리   키와 벨류  {'a':1,'b':2}"
      ]
    },
    {
      "cell_type": "markdown",
      "metadata": {
        "id": "Xuzka-kyELPE"
      },
      "source": [
        "#생성"
      ]
    },
    {
      "cell_type": "markdown",
      "metadata": {
        "id": "16dkHYqGEMwg"
      },
      "source": [
        "##[ ]형태로 표기"
      ]
    },
    {
      "cell_type": "markdown",
      "metadata": {
        "id": "bi1zjGRHEQTp"
      },
      "source": [
        "###빈 리스트를 생성"
      ]
    },
    {
      "cell_type": "code",
      "metadata": {
        "colab": {
          "base_uri": "https://localhost:8080/"
        },
        "id": "DL1Vnw7YEVkl",
        "outputId": "9dc9768d-2954-4554-e31f-5f0db73fa7f6"
      },
      "source": [
        "mylist = [1,2,3,4]\n",
        "mylist"
      ],
      "execution_count": 2,
      "outputs": [
        {
          "output_type": "execute_result",
          "data": {
            "text/plain": [
              "[1, 2, 3, 4]"
            ]
          },
          "metadata": {
            "tags": []
          },
          "execution_count": 2
        }
      ]
    },
    {
      "cell_type": "markdown",
      "metadata": {
        "id": "UPufLC7-EfiS"
      },
      "source": [
        "#리스트의 규칙"
      ]
    },
    {
      "cell_type": "markdown",
      "metadata": {
        "id": "K4gAMyX9EhvF"
      },
      "source": [
        "1. 리스트는 다양한 데이터를 집합으로 가진다\n",
        "2. 리스트 안에 리스트 허용\n",
        "3. 순서의 개념이 존재"
      ]
    },
    {
      "cell_type": "code",
      "metadata": {
        "id": "25isdLbVE1Mk"
      },
      "source": [
        "a= [ ]"
      ],
      "execution_count": 3,
      "outputs": []
    },
    {
      "cell_type": "code",
      "metadata": {
        "id": "W6IMWhQrE3Up"
      },
      "source": [
        "a= [1,2,3]"
      ],
      "execution_count": 4,
      "outputs": []
    },
    {
      "cell_type": "code",
      "metadata": {
        "colab": {
          "base_uri": "https://localhost:8080/"
        },
        "id": "ERkMCG7KE5iT",
        "outputId": "88ab0d77-8907-4a8d-b912-e99b8eb3e771"
      },
      "source": [
        "a= [1,[2,3,4]]\n",
        "a"
      ],
      "execution_count": 5,
      "outputs": [
        {
          "output_type": "execute_result",
          "data": {
            "text/plain": [
              "[1, [2, 3, 4]]"
            ]
          },
          "metadata": {
            "tags": []
          },
          "execution_count": 5
        }
      ]
    },
    {
      "cell_type": "markdown",
      "metadata": {
        "id": "eYyWCTC-FBB6"
      },
      "source": [
        "#관련 함수"
      ]
    },
    {
      "cell_type": "markdown",
      "metadata": {
        "id": "85i3cRcvFCoF"
      },
      "source": [
        "#append ( )"
      ]
    },
    {
      "cell_type": "code",
      "metadata": {
        "colab": {
          "base_uri": "https://localhost:8080/"
        },
        "id": "J2nAg2TZFTTN",
        "outputId": "0b902be1-8da0-451c-fb22-3b35f5c86b22"
      },
      "source": [
        "mylist.append(1) \n",
        "mylist"
      ],
      "execution_count": 8,
      "outputs": [
        {
          "output_type": "execute_result",
          "data": {
            "text/plain": [
              "[1, 2, 3, 4, 1, 1]"
            ]
          },
          "metadata": {
            "tags": []
          },
          "execution_count": 8
        }
      ]
    },
    {
      "cell_type": "code",
      "metadata": {
        "colab": {
          "base_uri": "https://localhost:8080/"
        },
        "id": "dpJStqeaFXVE",
        "outputId": "ae7e968b-c621-447e-a99f-72c8e0050974"
      },
      "source": [
        "mylist.append(1)\n",
        "mylist.append(2)\n",
        "mylist.append(3)\n",
        "mylist.append(1)\n",
        "mylist.append(4)\n",
        "mylist"
      ],
      "execution_count": 11,
      "outputs": [
        {
          "output_type": "execute_result",
          "data": {
            "text/plain": [
              "[1, 2, 3, 4, 1, 1, 1, 1, 1, 1, 1, 1, 2, 3, 1, 4]"
            ]
          },
          "metadata": {
            "tags": []
          },
          "execution_count": 11
        }
      ]
    },
    {
      "cell_type": "markdown",
      "metadata": {
        "id": "1b8rtEmBF61D"
      },
      "source": [
        "# 오름 차순 정리"
      ]
    },
    {
      "cell_type": "code",
      "metadata": {
        "colab": {
          "base_uri": "https://localhost:8080/"
        },
        "id": "fO_FzFkRF9kX",
        "outputId": "62620ccb-d95d-4bf7-fadc-5e7fc8dc4a3f"
      },
      "source": [
        "mylist = [1,6,3,5,2,4]\n",
        "mylist.sort()\n",
        "mylist"
      ],
      "execution_count": 17,
      "outputs": [
        {
          "output_type": "execute_result",
          "data": {
            "text/plain": [
              "[1, 2, 3, 4, 5, 6]"
            ]
          },
          "metadata": {
            "tags": []
          },
          "execution_count": 17
        }
      ]
    },
    {
      "cell_type": "markdown",
      "metadata": {
        "id": "Eof4AQU2GPEH"
      },
      "source": [
        "# 역정렬 가능"
      ]
    },
    {
      "cell_type": "code",
      "metadata": {
        "colab": {
          "base_uri": "https://localhost:8080/"
        },
        "id": "7klFbkpfGRua",
        "outputId": "982de705-1206-4253-bd20-e10685724630"
      },
      "source": [
        "mylist = [1,5,6,3,4,2]\n",
        "mylist.sort(reverse=True)\n",
        "mylist"
      ],
      "execution_count": 18,
      "outputs": [
        {
          "output_type": "execute_result",
          "data": {
            "text/plain": [
              "[6, 5, 4, 3, 2, 1]"
            ]
          },
          "metadata": {
            "tags": []
          },
          "execution_count": 18
        }
      ]
    },
    {
      "cell_type": "markdown",
      "metadata": {
        "id": "clhPPE83GemG"
      },
      "source": [
        "# sorted 정렬 (복사본, 사실상 변하지 않았음)"
      ]
    },
    {
      "cell_type": "code",
      "metadata": {
        "id": "WX9WR-ITGg9N"
      },
      "source": [
        "mylist = [1,6,5,2,4,3]"
      ],
      "execution_count": null,
      "outputs": []
    },
    {
      "cell_type": "code",
      "metadata": {
        "colab": {
          "base_uri": "https://localhost:8080/"
        },
        "id": "nmaLln8SGg_a",
        "outputId": "0169eef0-433a-4ed9-dbb1-bc769a40df36"
      },
      "source": [
        "sorted(mylist)"
      ],
      "execution_count": 19,
      "outputs": [
        {
          "output_type": "execute_result",
          "data": {
            "text/plain": [
              "[1, 2, 3, 4, 5, 6]"
            ]
          },
          "metadata": {
            "tags": []
          },
          "execution_count": 19
        }
      ]
    },
    {
      "cell_type": "code",
      "metadata": {
        "colab": {
          "base_uri": "https://localhost:8080/"
        },
        "id": "jj_3IB5iGzlG",
        "outputId": "6cd1ba90-6755-48c5-cbf1-40080f741680"
      },
      "source": [
        "mylist"
      ],
      "execution_count": 20,
      "outputs": [
        {
          "output_type": "execute_result",
          "data": {
            "text/plain": [
              "[6, 5, 4, 3, 2, 1]"
            ]
          },
          "metadata": {
            "tags": []
          },
          "execution_count": 20
        }
      ]
    },
    {
      "cell_type": "markdown",
      "metadata": {
        "id": "pwC3_BdRHHdY"
      },
      "source": [
        "#reverse() 역정렬"
      ]
    },
    {
      "cell_type": "code",
      "metadata": {
        "colab": {
          "base_uri": "https://localhost:8080/"
        },
        "id": "1jacPN3dHKyO",
        "outputId": "6561553d-5f5d-4651-8aaa-c14f9df576f4"
      },
      "source": [
        "mylist.reverse()\n",
        "mylist"
      ],
      "execution_count": 22,
      "outputs": [
        {
          "output_type": "execute_result",
          "data": {
            "text/plain": [
              "[6, 5, 4, 3, 2, 1]"
            ]
          },
          "metadata": {
            "tags": []
          },
          "execution_count": 22
        }
      ]
    },
    {
      "cell_type": "markdown",
      "metadata": {
        "id": "i06AaCtlHRfN"
      },
      "source": [
        "#len() 전체항목의 개수 세기"
      ]
    },
    {
      "cell_type": "code",
      "metadata": {
        "colab": {
          "base_uri": "https://localhost:8080/"
        },
        "id": "NhgbRD7UHWwc",
        "outputId": "dbb4d8c6-260e-42ac-edd8-e278d69633ce"
      },
      "source": [
        "mylist = [1,5,2,5,3,4]\n",
        "len(mylist)"
      ],
      "execution_count": 23,
      "outputs": [
        {
          "output_type": "execute_result",
          "data": {
            "text/plain": [
              "6"
            ]
          },
          "metadata": {
            "tags": []
          },
          "execution_count": 23
        }
      ]
    },
    {
      "cell_type": "markdown",
      "metadata": {
        "id": "z90sqWvXHeW_"
      },
      "source": [
        "#insert() 값 추가"
      ]
    },
    {
      "cell_type": "markdown",
      "metadata": {
        "id": "ZuYmZy_JHkgu"
      },
      "source": [
        "### 지정한  index 값 추가"
      ]
    },
    {
      "cell_type": "code",
      "metadata": {
        "id": "LGjlGBOeHqAQ"
      },
      "source": [
        "mylist.insert(1, 100)"
      ],
      "execution_count": 24,
      "outputs": []
    },
    {
      "cell_type": "code",
      "metadata": {
        "colab": {
          "base_uri": "https://localhost:8080/"
        },
        "id": "emFJfOPHHwoD",
        "outputId": "87feb54c-84cc-4449-f5b7-80de2f6d0046"
      },
      "source": [
        "mylist"
      ],
      "execution_count": 25,
      "outputs": [
        {
          "output_type": "execute_result",
          "data": {
            "text/plain": [
              "[1, 100, 5, 2, 5, 3, 4]"
            ]
          },
          "metadata": {
            "tags": []
          },
          "execution_count": 25
        }
      ]
    },
    {
      "cell_type": "markdown",
      "metadata": {
        "id": "zSYWq_b-H0YL"
      },
      "source": [
        "#remove() 값 제거"
      ]
    },
    {
      "cell_type": "markdown",
      "metadata": {
        "id": "-QgVjQ0rH5O8"
      },
      "source": [
        "리스트에서 첫번째 오는 값 제거"
      ]
    },
    {
      "cell_type": "code",
      "metadata": {
        "colab": {
          "base_uri": "https://localhost:8080/"
        },
        "id": "dfu2Pe4UH84e",
        "outputId": "c007d9b8-be1e-45d7-906a-7c2fae2745ea"
      },
      "source": [
        "mylist = [1,2,3,4,5]\n",
        "mylist.remove(2)\n",
        "mylist"
      ],
      "execution_count": 32,
      "outputs": [
        {
          "output_type": "execute_result",
          "data": {
            "text/plain": [
              "[1, 3, 4, 5]"
            ]
          },
          "metadata": {
            "tags": []
          },
          "execution_count": 32
        }
      ]
    },
    {
      "cell_type": "markdown",
      "metadata": {
        "id": "Iq1sfAJFIFYO"
      },
      "source": [
        "#pop() 요소 꺼내기"
      ]
    },
    {
      "cell_type": "code",
      "metadata": {
        "id": "vfldAW5hIIYJ"
      },
      "source": [
        "mylist.pop(1)"
      ],
      "execution_count": null,
      "outputs": []
    },
    {
      "cell_type": "markdown",
      "metadata": {
        "id": "NIueLFDkILd_"
      },
      "source": [
        "#del 요소 삭제"
      ]
    },
    {
      "cell_type": "code",
      "metadata": {
        "colab": {
          "base_uri": "https://localhost:8080/"
        },
        "id": "zMdouMJCIP1M",
        "outputId": "a4353142-b0e3-4999-d702-84e4b2eea356"
      },
      "source": [
        "mylist = [100, 200, 300]\n",
        "del mylist[1]\n",
        "print(mylist)"
      ],
      "execution_count": 30,
      "outputs": [
        {
          "output_type": "stream",
          "text": [
            "[100, 300]\n"
          ],
          "name": "stdout"
        }
      ]
    },
    {
      "cell_type": "markdown",
      "metadata": {
        "id": "gte-oQICIeSn"
      },
      "source": [
        "#count() 요소의 갯수 세기"
      ]
    },
    {
      "cell_type": "code",
      "metadata": {
        "colab": {
          "base_uri": "https://localhost:8080/"
        },
        "id": "w9GPz0a9IhG5",
        "outputId": "7db60f1e-9f3f-4648-f862-9306ea3ad0af"
      },
      "source": [
        "a = [1,1,1,1,1,2,2,3]\n",
        "a.count(1)"
      ],
      "execution_count": 33,
      "outputs": [
        {
          "output_type": "execute_result",
          "data": {
            "text/plain": [
              "5"
            ]
          },
          "metadata": {
            "tags": []
          },
          "execution_count": 33
        }
      ]
    },
    {
      "cell_type": "markdown",
      "metadata": {
        "id": "SJybVI2wI2rx"
      },
      "source": [
        "#extend() 리스트 확장"
      ]
    },
    {
      "cell_type": "code",
      "metadata": {
        "colab": {
          "base_uri": "https://localhost:8080/"
        },
        "id": "s2jPa2oMI805",
        "outputId": "1fc66129-b2f0-4096-87d6-29dfd11aff43"
      },
      "source": [
        "a=[1,2,3]\n",
        "a.extend([4,5])\n",
        "a"
      ],
      "execution_count": 34,
      "outputs": [
        {
          "output_type": "execute_result",
          "data": {
            "text/plain": [
              "[1, 2, 3, 4, 5]"
            ]
          },
          "metadata": {
            "tags": []
          },
          "execution_count": 34
        }
      ]
    },
    {
      "cell_type": "markdown",
      "metadata": {
        "id": "HdPFsRwhJLJf"
      },
      "source": [
        "+연산자는 extend와 기능이 동일"
      ]
    },
    {
      "cell_type": "markdown",
      "metadata": {
        "id": "wixIsNNOJPNY"
      },
      "source": [
        "#인덱싱 :색인"
      ]
    },
    {
      "cell_type": "code",
      "metadata": {
        "id": "nHhk0g4QJTcr"
      },
      "source": [
        "mylist = [1,2,3,4]"
      ],
      "execution_count": 41,
      "outputs": []
    },
    {
      "cell_type": "markdown",
      "metadata": {
        "id": "MnGovNY4JWDE"
      },
      "source": [
        "인덱스는 **0번 부터 시작**"
      ]
    },
    {
      "cell_type": "code",
      "metadata": {
        "colab": {
          "base_uri": "https://localhost:8080/"
        },
        "id": "ezQ0wB-0JatN",
        "outputId": "c9b0790c-17bb-4a7e-efba-8d921b2df85f"
      },
      "source": [
        "mylist[0]"
      ],
      "execution_count": 36,
      "outputs": [
        {
          "output_type": "execute_result",
          "data": {
            "text/plain": [
              "1"
            ]
          },
          "metadata": {
            "tags": []
          },
          "execution_count": 36
        }
      ]
    },
    {
      "cell_type": "code",
      "metadata": {
        "colab": {
          "base_uri": "https://localhost:8080/"
        },
        "id": "8yohbVhxJd8h",
        "outputId": "3bb0e438-e8e3-45f0-d50f-44d464d5b421"
      },
      "source": [
        "mylist[3]"
      ],
      "execution_count": 42,
      "outputs": [
        {
          "output_type": "execute_result",
          "data": {
            "text/plain": [
              "4"
            ]
          },
          "metadata": {
            "tags": []
          },
          "execution_count": 42
        }
      ]
    },
    {
      "cell_type": "markdown",
      "metadata": {
        "id": "c4vZII5CJt0c"
      },
      "source": [
        "# 역순 인덱싱"
      ]
    },
    {
      "cell_type": "code",
      "metadata": {
        "colab": {
          "base_uri": "https://localhost:8080/"
        },
        "id": "bNBjVGYyJ0S6",
        "outputId": "8bc6073e-658b-499a-cf75-9dd6687269e9"
      },
      "source": [
        "mylist[-1]"
      ],
      "execution_count": 43,
      "outputs": [
        {
          "output_type": "execute_result",
          "data": {
            "text/plain": [
              "4"
            ]
          },
          "metadata": {
            "tags": []
          },
          "execution_count": 43
        }
      ]
    },
    {
      "cell_type": "markdown",
      "metadata": {
        "id": "aX83iaGWJ-zB"
      },
      "source": [
        "#인덱스로 접근하여 값 바꾸기"
      ]
    },
    {
      "cell_type": "code",
      "metadata": {
        "colab": {
          "base_uri": "https://localhost:8080/"
        },
        "id": "EWvTTvPeKDKt",
        "outputId": "2210a071-edb1-4d4f-93a5-4bec86d30bde"
      },
      "source": [
        "mylist = [1,2,3,4,5]\n",
        "mylist"
      ],
      "execution_count": 47,
      "outputs": [
        {
          "output_type": "execute_result",
          "data": {
            "text/plain": [
              "[1, 2, 3, 4, 5]"
            ]
          },
          "metadata": {
            "tags": []
          },
          "execution_count": 47
        }
      ]
    },
    {
      "cell_type": "code",
      "metadata": {
        "colab": {
          "base_uri": "https://localhost:8080/"
        },
        "id": "GOdlCGaIKNKn",
        "outputId": "c8c99b17-897f-4442-93fa-041b0e73e9c4"
      },
      "source": [
        "mylist[0]"
      ],
      "execution_count": 48,
      "outputs": [
        {
          "output_type": "execute_result",
          "data": {
            "text/plain": [
              "1"
            ]
          },
          "metadata": {
            "tags": []
          },
          "execution_count": 48
        }
      ]
    },
    {
      "cell_type": "code",
      "metadata": {
        "colab": {
          "base_uri": "https://localhost:8080/"
        },
        "id": "goXD3Jq0KG0j",
        "outputId": "28ff6847-a85b-49c8-fa1e-661805e34bca"
      },
      "source": [
        "mylist[0]= 100\n",
        "mylist[0]"
      ],
      "execution_count": 49,
      "outputs": [
        {
          "output_type": "execute_result",
          "data": {
            "text/plain": [
              "100"
            ]
          },
          "metadata": {
            "tags": []
          },
          "execution_count": 49
        }
      ]
    },
    {
      "cell_type": "code",
      "metadata": {
        "colab": {
          "base_uri": "https://localhost:8080/"
        },
        "id": "QPUtgszeKRjl",
        "outputId": "1add23ca-b111-4bcd-aa77-037a4fff3f98"
      },
      "source": [
        "mylist"
      ],
      "execution_count": 52,
      "outputs": [
        {
          "output_type": "execute_result",
          "data": {
            "text/plain": [
              "[100, 2, 3, 4, 5]"
            ]
          },
          "metadata": {
            "tags": []
          },
          "execution_count": 52
        }
      ]
    },
    {
      "cell_type": "code",
      "metadata": {
        "colab": {
          "base_uri": "https://localhost:8080/"
        },
        "id": "hgYNZGo1KUdh",
        "outputId": "7a04a4e2-07cd-4100-9838-9030347c6bcb"
      },
      "source": [
        "mylist[-1]"
      ],
      "execution_count": 53,
      "outputs": [
        {
          "output_type": "execute_result",
          "data": {
            "text/plain": [
              "5"
            ]
          },
          "metadata": {
            "tags": []
          },
          "execution_count": 53
        }
      ]
    },
    {
      "cell_type": "code",
      "metadata": {
        "colab": {
          "base_uri": "https://localhost:8080/"
        },
        "id": "ig8q7GrGKV1-",
        "outputId": "f93a9a1f-3cce-443c-8ea2-afa75d90f05c"
      },
      "source": [
        "mylist[-1]= 300\n",
        "mylist[-1]"
      ],
      "execution_count": 54,
      "outputs": [
        {
          "output_type": "execute_result",
          "data": {
            "text/plain": [
              "300"
            ]
          },
          "metadata": {
            "tags": []
          },
          "execution_count": 54
        }
      ]
    },
    {
      "cell_type": "markdown",
      "metadata": {
        "id": "-W6IPPOqKcaz"
      },
      "source": [
        "#중첩된 리스트 인덱싱"
      ]
    },
    {
      "cell_type": "code",
      "metadata": {
        "id": "peNtRj2wKfS0"
      },
      "source": [
        "mylist= [['가', '나', '다'], [4,5,6], 7,8,9]\n"
      ],
      "execution_count": 56,
      "outputs": []
    },
    {
      "cell_type": "markdown",
      "metadata": {
        "id": "LaHyTn_YKr8s"
      },
      "source": [
        "0번째 요소 가져온다"
      ]
    },
    {
      "cell_type": "code",
      "metadata": {
        "colab": {
          "base_uri": "https://localhost:8080/"
        },
        "id": "Hc_caCsTKtiY",
        "outputId": "57af7486-9dff-4420-8a70-b302c996f2cc"
      },
      "source": [
        "mylist[0]"
      ],
      "execution_count": 58,
      "outputs": [
        {
          "output_type": "execute_result",
          "data": {
            "text/plain": [
              "['가', '나', '다']"
            ]
          },
          "metadata": {
            "tags": []
          },
          "execution_count": 58
        }
      ]
    },
    {
      "cell_type": "markdown",
      "metadata": {
        "id": "4RJ-dnzwK3gf"
      },
      "source": [
        "0번째 요소중 0번째를 가져오기 위해서는 중첩인덱싱으로 접근한다"
      ]
    },
    {
      "cell_type": "code",
      "metadata": {
        "colab": {
          "base_uri": "https://localhost:8080/",
          "height": 35
        },
        "id": "Yd43aG5hK7zs",
        "outputId": "10142b85-99cd-490a-ac71-5bce1a87c735"
      },
      "source": [
        "mylist[0][0]"
      ],
      "execution_count": 61,
      "outputs": [
        {
          "output_type": "execute_result",
          "data": {
            "application/vnd.google.colaboratory.intrinsic+json": {
              "type": "string"
            },
            "text/plain": [
              "'가'"
            ]
          },
          "metadata": {
            "tags": []
          },
          "execution_count": 61
        }
      ]
    },
    {
      "cell_type": "markdown",
      "metadata": {
        "id": "IFQJ9fYRLgr-"
      },
      "source": [
        "변경도 가능"
      ]
    },
    {
      "cell_type": "code",
      "metadata": {
        "colab": {
          "base_uri": "https://localhost:8080/",
          "height": 35
        },
        "id": "4kjY2iTbLW9P",
        "outputId": "dba95131-a849-4046-cfe4-11b9b87dcf56"
      },
      "source": [
        "mylist[0][0]='고'\n",
        "mylist[0][0]"
      ],
      "execution_count": 62,
      "outputs": [
        {
          "output_type": "execute_result",
          "data": {
            "application/vnd.google.colaboratory.intrinsic+json": {
              "type": "string"
            },
            "text/plain": [
              "'고'"
            ]
          },
          "metadata": {
            "tags": []
          },
          "execution_count": 62
        }
      ]
    },
    {
      "cell_type": "markdown",
      "metadata": {
        "id": "afSUR3XNLtCu"
      },
      "source": [
        "#슬라이싱: 범위 추출"
      ]
    },
    {
      "cell_type": "markdown",
      "metadata": {
        "id": "K50NJun-LzPz"
      },
      "source": [
        "###[star:stop:step] 으로 명시"
      ]
    },
    {
      "cell_type": "code",
      "metadata": {
        "id": "hY87QPNdL5Ln"
      },
      "source": [
        "mylist = [100, 200, 300, 400, 500]"
      ],
      "execution_count": 63,
      "outputs": []
    },
    {
      "cell_type": "code",
      "metadata": {
        "colab": {
          "base_uri": "https://localhost:8080/"
        },
        "id": "-6cg6K2KL9ho",
        "outputId": "37fc9bf0-596b-47dd-9eda-6b7c48685d8f"
      },
      "source": [
        "mylist[:]"
      ],
      "execution_count": 64,
      "outputs": [
        {
          "output_type": "execute_result",
          "data": {
            "text/plain": [
              "[100, 200, 300, 400, 500]"
            ]
          },
          "metadata": {
            "tags": []
          },
          "execution_count": 64
        }
      ]
    },
    {
      "cell_type": "code",
      "metadata": {
        "colab": {
          "base_uri": "https://localhost:8080/"
        },
        "id": "gBnJQXJYMB79",
        "outputId": "48e5ab94-6867-4ca4-8897-24fb3cac0f49"
      },
      "source": [
        "mylist[2:]"
      ],
      "execution_count": 65,
      "outputs": [
        {
          "output_type": "execute_result",
          "data": {
            "text/plain": [
              "[300, 400, 500]"
            ]
          },
          "metadata": {
            "tags": []
          },
          "execution_count": 65
        }
      ]
    },
    {
      "cell_type": "code",
      "metadata": {
        "colab": {
          "base_uri": "https://localhost:8080/"
        },
        "id": "3paGGcjXMMsI",
        "outputId": "aa592d86-66cf-4c09-8bcb-9053e1941100"
      },
      "source": [
        "mylist[2:3]"
      ],
      "execution_count": 66,
      "outputs": [
        {
          "output_type": "execute_result",
          "data": {
            "text/plain": [
              "[300]"
            ]
          },
          "metadata": {
            "tags": []
          },
          "execution_count": 66
        }
      ]
    },
    {
      "cell_type": "markdown",
      "metadata": {
        "id": "GgbtrawkMVV7"
      },
      "source": [
        "###[:end]는 처음부터 end 전까지 추출"
      ]
    },
    {
      "cell_type": "code",
      "metadata": {
        "colab": {
          "base_uri": "https://localhost:8080/"
        },
        "id": "1whtHxb1MdlG",
        "outputId": "49d20333-06cf-46ef-fb3b-a03ebedf1480"
      },
      "source": [
        "mylist[:3]"
      ],
      "execution_count": 67,
      "outputs": [
        {
          "output_type": "execute_result",
          "data": {
            "text/plain": [
              "[100, 200, 300]"
            ]
          },
          "metadata": {
            "tags": []
          },
          "execution_count": 67
        }
      ]
    },
    {
      "cell_type": "markdown",
      "metadata": {
        "id": "hBIiQ0hrMs8J"
      },
      "source": [
        "#인덱싱에 step 활용"
      ]
    },
    {
      "cell_type": "code",
      "metadata": {
        "colab": {
          "base_uri": "https://localhost:8080/"
        },
        "id": "ipS8e-DnMwRL",
        "outputId": "3cfbaae0-2b1e-49c4-9483-c777b40d1547"
      },
      "source": [
        "mylist= [1,2,3,4,5,6,7,8,9,10]\n",
        "mylist[::2]"
      ],
      "execution_count": 68,
      "outputs": [
        {
          "output_type": "execute_result",
          "data": {
            "text/plain": [
              "[1, 3, 5, 7, 9]"
            ]
          },
          "metadata": {
            "tags": []
          },
          "execution_count": 68
        }
      ]
    },
    {
      "cell_type": "markdown",
      "metadata": {
        "id": "_d_lCpsRM4fY"
      },
      "source": [
        "**역순** 출력"
      ]
    },
    {
      "cell_type": "code",
      "metadata": {
        "colab": {
          "base_uri": "https://localhost:8080/"
        },
        "id": "0jeLbeGYM7p7",
        "outputId": "622b0b7b-0a3a-4838-e119-77c42fa521a3"
      },
      "source": [
        "mylist[::-1]"
      ],
      "execution_count": 69,
      "outputs": [
        {
          "output_type": "execute_result",
          "data": {
            "text/plain": [
              "[10, 9, 8, 7, 6, 5, 4, 3, 2, 1]"
            ]
          },
          "metadata": {
            "tags": []
          },
          "execution_count": 69
        }
      ]
    },
    {
      "cell_type": "markdown",
      "metadata": {
        "id": "sU8p010dNAdw"
      },
      "source": [
        "역순으로 2칸씩 뛰기"
      ]
    },
    {
      "cell_type": "code",
      "metadata": {
        "colab": {
          "base_uri": "https://localhost:8080/"
        },
        "id": "5H43iRLVNCRz",
        "outputId": "bce0e0e3-3b10-4ef2-c1d0-c827b685da91"
      },
      "source": [
        "mylist[::-2]"
      ],
      "execution_count": 70,
      "outputs": [
        {
          "output_type": "execute_result",
          "data": {
            "text/plain": [
              "[10, 8, 6, 4, 2]"
            ]
          },
          "metadata": {
            "tags": []
          },
          "execution_count": 70
        }
      ]
    },
    {
      "cell_type": "markdown",
      "metadata": {
        "id": "Ergl_MthNFB-"
      },
      "source": [
        "#list 덧셈: list 확장"
      ]
    },
    {
      "cell_type": "code",
      "metadata": {
        "colab": {
          "base_uri": "https://localhost:8080/"
        },
        "id": "rdXgsxooNJqf",
        "outputId": "f6d60a59-c3da-416f-e9e3-91207535e7c7"
      },
      "source": [
        "a= [1,2,3]\n",
        "b= [4,5,6]\n",
        "a+b"
      ],
      "execution_count": 71,
      "outputs": [
        {
          "output_type": "execute_result",
          "data": {
            "text/plain": [
              "[1, 2, 3, 4, 5, 6]"
            ]
          },
          "metadata": {
            "tags": []
          },
          "execution_count": 71
        }
      ]
    },
    {
      "cell_type": "markdown",
      "metadata": {
        "id": "lN8_GNuRNQff"
      },
      "source": [
        "리스트의 곱셈"
      ]
    },
    {
      "cell_type": "code",
      "metadata": {
        "colab": {
          "base_uri": "https://localhost:8080/"
        },
        "id": "aXkmoXZxNTcH",
        "outputId": "43cdd833-6fec-4025-98be-a1fea96b6652"
      },
      "source": [
        "a= ['1','2','3']\n",
        "a*2"
      ],
      "execution_count": 72,
      "outputs": [
        {
          "output_type": "execute_result",
          "data": {
            "text/plain": [
              "['1', '2', '3', '1', '2', '3']"
            ]
          },
          "metadata": {
            "tags": []
          },
          "execution_count": 72
        }
      ]
    },
    {
      "cell_type": "markdown",
      "metadata": {
        "id": "avtTJjHrNY1Q"
      },
      "source": [
        "#튜플"
      ]
    },
    {
      "cell_type": "markdown",
      "metadata": {
        "id": "QrI7MbX_NaIi"
      },
      "source": [
        "1. 불변\n",
        "2. 요소에 대한 수정, 삭제 불가능"
      ]
    },
    {
      "cell_type": "markdown",
      "metadata": {
        "id": "lsGHXH5cNtIf"
      },
      "source": [
        "튜플은 (), . 로 생성가능"
      ]
    },
    {
      "cell_type": "markdown",
      "metadata": {
        "id": "HkAPuDBzNxiZ"
      },
      "source": [
        "단일요소 추가시에는 ,를 꼭 붙힌다"
      ]
    },
    {
      "cell_type": "code",
      "metadata": {
        "colab": {
          "base_uri": "https://localhost:8080/"
        },
        "id": "q4mtLhZzN07O",
        "outputId": "91b14307-f45a-40a8-a21d-088a5e49fb6d"
      },
      "source": [
        "mylist = 1,\n",
        "type(mylist)"
      ],
      "execution_count": 73,
      "outputs": [
        {
          "output_type": "execute_result",
          "data": {
            "text/plain": [
              "tuple"
            ]
          },
          "metadata": {
            "tags": []
          },
          "execution_count": 73
        }
      ]
    },
    {
      "cell_type": "markdown",
      "metadata": {
        "id": "mb6ifEXhN675"
      },
      "source": [
        "요소를 조회하는 것은 가능함"
      ]
    },
    {
      "cell_type": "code",
      "metadata": {
        "colab": {
          "base_uri": "https://localhost:8080/"
        },
        "id": "xmjhXaLGOD0f",
        "outputId": "1a6f6392-0c50-4f80-d8fd-20062b1c9acf"
      },
      "source": [
        "mytuple = (1,2,3)\n",
        "mytuple"
      ],
      "execution_count": 74,
      "outputs": [
        {
          "output_type": "execute_result",
          "data": {
            "text/plain": [
              "(1, 2, 3)"
            ]
          },
          "metadata": {
            "tags": []
          },
          "execution_count": 74
        }
      ]
    },
    {
      "cell_type": "markdown",
      "metadata": {
        "id": "BiWhmJnGOI1B"
      },
      "source": [
        "요소 변경, 삭제는 불가능"
      ]
    },
    {
      "cell_type": "markdown",
      "metadata": {
        "id": "cYXAezEnOOFk"
      },
      "source": [
        "#튜플의 확장은 가능"
      ]
    },
    {
      "cell_type": "markdown",
      "metadata": {
        "id": "a1GYcNVpORnY"
      },
      "source": [
        "#list를 tuple로 변환 가능"
      ]
    },
    {
      "cell_type": "code",
      "metadata": {
        "colab": {
          "base_uri": "https://localhost:8080/"
        },
        "id": "NrKzBisvOXHH",
        "outputId": "6323879d-5a95-4654-d5f7-b4902eba6a4d"
      },
      "source": [
        "a= [1,2,3]\n",
        "type(a)\n"
      ],
      "execution_count": 80,
      "outputs": [
        {
          "output_type": "execute_result",
          "data": {
            "text/plain": [
              "list"
            ]
          },
          "metadata": {
            "tags": []
          },
          "execution_count": 80
        }
      ]
    },
    {
      "cell_type": "code",
      "metadata": {
        "colab": {
          "base_uri": "https://localhost:8080/"
        },
        "id": "feyb-9TROavH",
        "outputId": "7d548d7f-e7ee-4322-ef0e-d3ae59109971"
      },
      "source": [
        "b= tuple(a)\n",
        "print(b)"
      ],
      "execution_count": 81,
      "outputs": [
        {
          "output_type": "stream",
          "text": [
            "(1, 2, 3)\n"
          ],
          "name": "stdout"
        }
      ]
    }
  ]
}