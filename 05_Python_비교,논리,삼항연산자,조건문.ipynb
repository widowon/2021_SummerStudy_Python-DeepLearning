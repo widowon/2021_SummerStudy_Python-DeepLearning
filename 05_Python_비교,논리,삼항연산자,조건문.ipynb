{
  "nbformat": 4,
  "nbformat_minor": 0,
  "metadata": {
    "colab": {
      "name": "05-Python-비교,논리,삼항연산자,조건문.ipynb",
      "provenance": [],
      "collapsed_sections": [
        "4S7PdmNV_7ES",
        "i9aA0SoBAc5g"
      ],
      "authorship_tag": "ABX9TyOVI+N3REkPjdRIvRIIlHbY",
      "include_colab_link": true
    },
    "kernelspec": {
      "name": "python3",
      "display_name": "Python 3"
    },
    "language_info": {
      "name": "python"
    }
  },
  "cells": [
    {
      "cell_type": "markdown",
      "metadata": {
        "id": "view-in-github",
        "colab_type": "text"
      },
      "source": [
        "<a href=\"https://colab.research.google.com/github/widowon/2021_SummerStudy_Python-DeepLearning/blob/main/05_Python_%EB%B9%84%EA%B5%90%2C%EB%85%BC%EB%A6%AC%2C%EC%82%BC%ED%95%AD%EC%97%B0%EC%82%B0%EC%9E%90%2C%EC%A1%B0%EA%B1%B4%EB%AC%B8.ipynb\" target=\"_parent\"><img src=\"https://colab.research.google.com/assets/colab-badge.svg\" alt=\"Open In Colab\"/></a>"
      ]
    },
    {
      "cell_type": "markdown",
      "metadata": {
        "id": "4S7PdmNV_7ES"
      },
      "source": [
        "#비교연산자"
      ]
    },
    {
      "cell_type": "markdown",
      "metadata": {
        "id": "a2N4nEIDALav"
      },
      "source": [
        "###비교연산자는 주로 댜소비교를 할 때 사용합니다."
      ]
    },
    {
      "cell_type": "markdown",
      "metadata": {
        "id": "i9aA0SoBAc5g"
      },
      "source": [
        "##대소비교"
      ]
    },
    {
      "cell_type": "markdown",
      "metadata": {
        "id": "Q6QD-CnqAeu4"
      },
      "source": [
        "* `>` 크다\n",
        "* `>=` 크거나 같다\n",
        "* `<` 작다\n",
        "- `<=` 작거나 같다"
      ]
    },
    {
      "cell_type": "code",
      "metadata": {
        "colab": {
          "base_uri": "https://localhost:8080/"
        },
        "id": "WKXV6TikA6Fe",
        "outputId": "aec59c39-2e18-4140-ce37-5881f64e6d56"
      },
      "source": [
        "1 >2"
      ],
      "execution_count": 1,
      "outputs": [
        {
          "output_type": "execute_result",
          "data": {
            "text/plain": [
              "False"
            ]
          },
          "metadata": {
            "tags": []
          },
          "execution_count": 1
        }
      ]
    },
    {
      "cell_type": "code",
      "metadata": {
        "colab": {
          "base_uri": "https://localhost:8080/"
        },
        "id": "OFJlGEROA_TJ",
        "outputId": "b7475555-c3aa-4fa1-e813-4f827f3613b8"
      },
      "source": [
        "10 >= 10"
      ],
      "execution_count": 2,
      "outputs": [
        {
          "output_type": "execute_result",
          "data": {
            "text/plain": [
              "True"
            ]
          },
          "metadata": {
            "tags": []
          },
          "execution_count": 2
        }
      ]
    },
    {
      "cell_type": "code",
      "metadata": {
        "colab": {
          "base_uri": "https://localhost:8080/"
        },
        "id": "HOMdAMFfBAeg",
        "outputId": "ea97d0d3-32e5-4b98-b09a-162f8e15ce3f"
      },
      "source": [
        "9<10\n"
      ],
      "execution_count": 3,
      "outputs": [
        {
          "output_type": "execute_result",
          "data": {
            "text/plain": [
              "True"
            ]
          },
          "metadata": {
            "tags": []
          },
          "execution_count": 3
        }
      ]
    },
    {
      "cell_type": "code",
      "metadata": {
        "colab": {
          "base_uri": "https://localhost:8080/"
        },
        "id": "NscWnzICBCCY",
        "outputId": "9a982018-02f0-44dc-b902-9e140c285147"
      },
      "source": [
        "8 <= 7"
      ],
      "execution_count": 4,
      "outputs": [
        {
          "output_type": "execute_result",
          "data": {
            "text/plain": [
              "False"
            ]
          },
          "metadata": {
            "tags": []
          },
          "execution_count": 4
        }
      ]
    },
    {
      "cell_type": "markdown",
      "metadata": {
        "id": "A97vqobYBDzJ"
      },
      "source": [
        "###같다와 같지 않다"
      ]
    },
    {
      "cell_type": "markdown",
      "metadata": {
        "id": "XzRWeK66BL1a"
      },
      "source": [
        "### == : 같음을 비교"
      ]
    },
    {
      "cell_type": "markdown",
      "metadata": {
        "id": "AB8edxGkBQYy"
      },
      "source": [
        "- =는 대입 연산자 입니다\n",
        "- 코딩에서는 =이 대입 연산자로 사용되기 때문에 ==을 사용하고 있습니다"
      ]
    },
    {
      "cell_type": "code",
      "metadata": {
        "colab": {
          "base_uri": "https://localhost:8080/"
        },
        "id": "dWDuNVQ9Bczw",
        "outputId": "b77f8f23-e51d-4aa3-914f-6b5cb0c66c04"
      },
      "source": [
        "2 ==2 "
      ],
      "execution_count": 5,
      "outputs": [
        {
          "output_type": "execute_result",
          "data": {
            "text/plain": [
              "True"
            ]
          },
          "metadata": {
            "tags": []
          },
          "execution_count": 5
        }
      ]
    },
    {
      "cell_type": "code",
      "metadata": {
        "colab": {
          "base_uri": "https://localhost:8080/"
        },
        "id": "PBD24FR8Bd6x",
        "outputId": "d2d11692-6992-4545-8b5e-3ec3cf623ad4"
      },
      "source": [
        "1 == 3"
      ],
      "execution_count": 6,
      "outputs": [
        {
          "output_type": "execute_result",
          "data": {
            "text/plain": [
              "False"
            ]
          },
          "metadata": {
            "tags": []
          },
          "execution_count": 6
        }
      ]
    },
    {
      "cell_type": "markdown",
      "metadata": {
        "id": "iHE0LrB4Bexo"
      },
      "source": [
        "### != 같지 않음 을 비교"
      ]
    },
    {
      "cell_type": "code",
      "metadata": {
        "colab": {
          "base_uri": "https://localhost:8080/"
        },
        "id": "0icxhEDpBpuZ",
        "outputId": "be11e925-f7ff-4d48-9e91-41f2099b44ad"
      },
      "source": [
        "2 != 2\n"
      ],
      "execution_count": 7,
      "outputs": [
        {
          "output_type": "execute_result",
          "data": {
            "text/plain": [
              "False"
            ]
          },
          "metadata": {
            "tags": []
          },
          "execution_count": 7
        }
      ]
    },
    {
      "cell_type": "code",
      "metadata": {
        "colab": {
          "base_uri": "https://localhost:8080/"
        },
        "id": "Mx3eluYNBq4I",
        "outputId": "e1853c0e-eeda-48c2-ecb2-78f928d47884"
      },
      "source": [
        "1 != 3\n"
      ],
      "execution_count": 8,
      "outputs": [
        {
          "output_type": "execute_result",
          "data": {
            "text/plain": [
              "True"
            ]
          },
          "metadata": {
            "tags": []
          },
          "execution_count": 8
        }
      ]
    },
    {
      "cell_type": "code",
      "metadata": {
        "colab": {
          "base_uri": "https://localhost:8080/"
        },
        "id": "HbJP3bf_Btj4",
        "outputId": "e6ffa3a5-baae-4af7-e2e3-b89aaa31202f"
      },
      "source": [
        "'나' != '나'"
      ],
      "execution_count": 9,
      "outputs": [
        {
          "output_type": "execute_result",
          "data": {
            "text/plain": [
              "False"
            ]
          },
          "metadata": {
            "tags": []
          },
          "execution_count": 9
        }
      ]
    },
    {
      "cell_type": "code",
      "metadata": {
        "colab": {
          "base_uri": "https://localhost:8080/"
        },
        "id": "JbTLa8gKBwa6",
        "outputId": "2fba8b96-4390-4a2e-dff3-0f9cd0373db5"
      },
      "source": [
        "'나' != '너'"
      ],
      "execution_count": 10,
      "outputs": [
        {
          "output_type": "execute_result",
          "data": {
            "text/plain": [
              "True"
            ]
          },
          "metadata": {
            "tags": []
          },
          "execution_count": 10
        }
      ]
    },
    {
      "cell_type": "markdown",
      "metadata": {
        "id": "Wmu0AbUIBzRx"
      },
      "source": [
        "#조건문"
      ]
    },
    {
      "cell_type": "markdown",
      "metadata": {
        "id": "V1XQKsHjB_TJ"
      },
      "source": [
        "조건이 참일 경우 규칙을 실행함"
      ]
    },
    {
      "cell_type": "markdown",
      "metadata": {
        "id": "yld_BDJHCC7J"
      },
      "source": [
        "##if"
      ]
    },
    {
      "cell_type": "markdown",
      "metadata": {
        "id": "WZwdM9VfCF44"
      },
      "source": [
        "- if는 어떤 조건이 성립한다면 ~ 이라는 뜻\n",
        "- if 구문 끝에는 반드시 콜론(:)을 붙힘\n",
        "- 들여 쓰기는 위에 조건문에 포함된 것임을 알림"
      ]
    },
    {
      "cell_type": "code",
      "metadata": {
        "colab": {
          "base_uri": "https://localhost:8080/"
        },
        "id": "bhh3GzFSCQtc",
        "outputId": "29ebbbe3-60a6-4eb5-f08e-29d0b3b7d2d5"
      },
      "source": [
        "if 5>3:\n",
        "  print('참')"
      ],
      "execution_count": 18,
      "outputs": [
        {
          "output_type": "stream",
          "text": [
            "참\n"
          ],
          "name": "stdout"
        }
      ]
    },
    {
      "cell_type": "code",
      "metadata": {
        "colab": {
          "base_uri": "https://localhost:8080/"
        },
        "id": "sUwcz8I8CUjw",
        "outputId": "74b61155-900f-448a-a883-477a910a57a4"
      },
      "source": [
        "if 5>10:\n",
        "  print('참')\n",
        "print('거짓')"
      ],
      "execution_count": 17,
      "outputs": [
        {
          "output_type": "stream",
          "text": [
            "거짓\n"
          ],
          "name": "stdout"
        }
      ]
    },
    {
      "cell_type": "markdown",
      "metadata": {
        "id": "73yN6lP2Ccao"
      },
      "source": [
        "##else"
      ]
    },
    {
      "cell_type": "markdown",
      "metadata": {
        "id": "wOVAU61gC00Y"
      },
      "source": [
        "- else는 if 조건 후에 따라오며, if가 아닌 경우에 실행 됩니다.\n",
        "- 추가로 else 혼자 쓰일 경우 오류가 뜬다\n",
        "- 모든 조건이 끝난 후 모든 조건이 거짓 일 때 실행"
      ]
    },
    {
      "cell_type": "code",
      "metadata": {
        "colab": {
          "base_uri": "https://localhost:8080/"
        },
        "id": "tOkqjcMeDCHv",
        "outputId": "8a542f20-0298-437a-e761-0409e237cea8"
      },
      "source": [
        "if 5<3:\n",
        "  print('if 구문 수행')\n",
        "else:\n",
        "  print('else 구문 수행')"
      ],
      "execution_count": 20,
      "outputs": [
        {
          "output_type": "stream",
          "text": [
            "else 구문 수행\n"
          ],
          "name": "stdout"
        }
      ]
    },
    {
      "cell_type": "markdown",
      "metadata": {
        "id": "FqPEfpqqD-9p"
      },
      "source": [
        "##elif"
      ]
    },
    {
      "cell_type": "markdown",
      "metadata": {
        "id": "TqRAs4xME02H"
      },
      "source": [
        "- 조건이 참인 것은 위에서 부터 계산해서 맨 처음 것만 실행"
      ]
    },
    {
      "cell_type": "code",
      "metadata": {
        "colab": {
          "base_uri": "https://localhost:8080/"
        },
        "id": "1_97rKDsEEtf",
        "outputId": "deace87f-3009-4e22-eb3b-711a6f0f48b9"
      },
      "source": [
        "if 3>5:\n",
        "  print('if')\n",
        "elif 3<4:\n",
        "  print('elif')\n",
        "else:\n",
        "  print('else')"
      ],
      "execution_count": 23,
      "outputs": [
        {
          "output_type": "stream",
          "text": [
            "elif\n"
          ],
          "name": "stdout"
        }
      ]
    },
    {
      "cell_type": "markdown",
      "metadata": {
        "id": "nslWdZ94Eu_v"
      },
      "source": [
        "##1이나 0은 참이나 거짓을 표현하기도 합니다."
      ]
    },
    {
      "cell_type": "code",
      "metadata": {
        "colab": {
          "base_uri": "https://localhost:8080/"
        },
        "id": "uXMJicvFFDO3",
        "outputId": "485bb9de-891d-4d48-af21-0ef2cbb73f99"
      },
      "source": [
        "if 1:\n",
        "  print('참')\n",
        "else:\n",
        "  print('거짓')"
      ],
      "execution_count": 24,
      "outputs": [
        {
          "output_type": "stream",
          "text": [
            "참\n"
          ],
          "name": "stdout"
        }
      ]
    },
    {
      "cell_type": "markdown",
      "metadata": {
        "id": "WaVUQEJyFIYI"
      },
      "source": [
        "#삼항연산자"
      ]
    },
    {
      "cell_type": "markdown",
      "metadata": {
        "id": "dzeYZIuAFMuQ"
      },
      "source": [
        "(문법)(참인값)if조건 else(거짓인경우 값)"
      ]
    },
    {
      "cell_type": "markdown",
      "metadata": {
        "id": "C08LMaybFVtO"
      },
      "source": [
        "-삼항연산자는 조건에 대한 참인 경우의 값 그렇지 않을 경우의 값을 뒤에 지정"
      ]
    },
    {
      "cell_type": "code",
      "metadata": {
        "colab": {
          "base_uri": "https://localhost:8080/",
          "height": 35
        },
        "id": "XnesLq1hFhB5",
        "outputId": "50dfdb7c-fa32-44c3-b9c7-89cb0c8825ff"
      },
      "source": [
        "age = 35\n",
        "\"30세 이상입니다.\" if age >=30 else \"30세 이하입니다\""
      ],
      "execution_count": 25,
      "outputs": [
        {
          "output_type": "execute_result",
          "data": {
            "application/vnd.google.colaboratory.intrinsic+json": {
              "type": "string"
            },
            "text/plain": [
              "'30세 이상입니다.'"
            ]
          },
          "metadata": {
            "tags": []
          },
          "execution_count": 25
        }
      ]
    },
    {
      "cell_type": "code",
      "metadata": {
        "colab": {
          "base_uri": "https://localhost:8080/",
          "height": 35
        },
        "id": "yQkvVGZ8FwcF",
        "outputId": "95da5008-486d-4dc3-9e8d-fb6974b502ca"
      },
      "source": [
        "age = 20\n",
        "\"30세 이상입니다.\"if age >=30 else\"30세 이하입니다\""
      ],
      "execution_count": 26,
      "outputs": [
        {
          "output_type": "execute_result",
          "data": {
            "application/vnd.google.colaboratory.intrinsic+json": {
              "type": "string"
            },
            "text/plain": [
              "'20세 이하입니다'"
            ]
          },
          "metadata": {
            "tags": []
          },
          "execution_count": 26
        }
      ]
    },
    {
      "cell_type": "markdown",
      "metadata": {
        "id": "8OMPwRYmF5mf"
      },
      "source": [
        "#논리 연산자 (and, or, not)"
      ]
    },
    {
      "cell_type": "markdown",
      "metadata": {
        "id": "QyAF5lE9GCxm"
      },
      "source": [
        "##and"
      ]
    },
    {
      "cell_type": "markdown",
      "metadata": {
        "id": "a5C1lU_UGGne"
      },
      "source": [
        "- and 조건은 **모두 만족할 때** 참으로 인식합니다"
      ]
    },
    {
      "cell_type": "code",
      "metadata": {
        "colab": {
          "base_uri": "https://localhost:8080/"
        },
        "id": "ov7KfYn5GUgQ",
        "outputId": "bbdccbf3-5eeb-40cd-d61b-b4e53ef3ee87"
      },
      "source": [
        "True and True and True"
      ],
      "execution_count": 27,
      "outputs": [
        {
          "output_type": "execute_result",
          "data": {
            "text/plain": [
              "True"
            ]
          },
          "metadata": {
            "tags": []
          },
          "execution_count": 27
        }
      ]
    },
    {
      "cell_type": "code",
      "metadata": {
        "colab": {
          "base_uri": "https://localhost:8080/"
        },
        "id": "OhKVuaWCGZHn",
        "outputId": "19055340-b341-42f7-adfa-f91e46f94927"
      },
      "source": [
        "True and False and True"
      ],
      "execution_count": 28,
      "outputs": [
        {
          "output_type": "execute_result",
          "data": {
            "text/plain": [
              "False"
            ]
          },
          "metadata": {
            "tags": []
          },
          "execution_count": 28
        }
      ]
    },
    {
      "cell_type": "markdown",
      "metadata": {
        "id": "NbXOqgPVGcdW"
      },
      "source": [
        "##or"
      ]
    },
    {
      "cell_type": "markdown",
      "metadata": {
        "id": "rjBfevRlGi5-"
      },
      "source": [
        "- or 조건은 조건 중 **하나라도 만족할 때** 참으로 인식합니다."
      ]
    },
    {
      "cell_type": "code",
      "metadata": {
        "colab": {
          "base_uri": "https://localhost:8080/"
        },
        "id": "rRuLzBI7GtHW",
        "outputId": "e9615ff9-9471-43c9-812c-254d87cc4f18"
      },
      "source": [
        "True or False or False"
      ],
      "execution_count": 29,
      "outputs": [
        {
          "output_type": "execute_result",
          "data": {
            "text/plain": [
              "True"
            ]
          },
          "metadata": {
            "tags": []
          },
          "execution_count": 29
        }
      ]
    },
    {
      "cell_type": "code",
      "metadata": {
        "colab": {
          "base_uri": "https://localhost:8080/"
        },
        "id": "D1QapSfyGzxP",
        "outputId": "ac3ed5f5-b94b-4226-a755-08d4319be80c"
      },
      "source": [
        "False or False or False"
      ],
      "execution_count": 30,
      "outputs": [
        {
          "output_type": "execute_result",
          "data": {
            "text/plain": [
              "False"
            ]
          },
          "metadata": {
            "tags": []
          },
          "execution_count": 30
        }
      ]
    },
    {
      "cell_type": "markdown",
      "metadata": {
        "id": "d4EAhVPCG54_"
      },
      "source": [
        "##not"
      ]
    },
    {
      "cell_type": "markdown",
      "metadata": {
        "id": "USGBe7ZLHH6_"
      },
      "source": [
        "- bool 값을 반전 시킵니다"
      ]
    },
    {
      "cell_type": "code",
      "metadata": {
        "colab": {
          "base_uri": "https://localhost:8080/"
        },
        "id": "8Q9fB9r9HNjQ",
        "outputId": "4fed06ac-27b1-4a45-ebd9-72f4ab2e9be7"
      },
      "source": [
        "not True"
      ],
      "execution_count": 31,
      "outputs": [
        {
          "output_type": "execute_result",
          "data": {
            "text/plain": [
              "False"
            ]
          },
          "metadata": {
            "tags": []
          },
          "execution_count": 31
        }
      ]
    },
    {
      "cell_type": "code",
      "metadata": {
        "colab": {
          "base_uri": "https://localhost:8080/"
        },
        "id": "bVXY_BREHPO_",
        "outputId": "42bd032b-40c5-41e9-9bb8-817ab1480df0"
      },
      "source": [
        "not False"
      ],
      "execution_count": 32,
      "outputs": [
        {
          "output_type": "execute_result",
          "data": {
            "text/plain": [
              "True"
            ]
          },
          "metadata": {
            "tags": []
          },
          "execution_count": 32
        }
      ]
    },
    {
      "cell_type": "code",
      "metadata": {
        "colab": {
          "base_uri": "https://localhost:8080/"
        },
        "id": "94A8U3MqHQyY",
        "outputId": "745094bf-4ad9-4b13-a482-8c74947a9b03"
      },
      "source": [
        "if not False:\n",
        "  print('not False')"
      ],
      "execution_count": 33,
      "outputs": [
        {
          "output_type": "stream",
          "text": [
            "not False\n"
          ],
          "name": "stdout"
        }
      ]
    }
  ]
}