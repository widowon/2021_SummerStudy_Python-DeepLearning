{
  "nbformat": 4,
  "nbformat_minor": 0,
  "metadata": {
    "colab": {
      "name": "08-Python-Comprehension 문법.ipynb",
      "provenance": [],
      "collapsed_sections": [],
      "authorship_tag": "ABX9TyODzFV1PygybOVSEX9upvhf",
      "include_colab_link": true
    },
    "kernelspec": {
      "name": "python3",
      "display_name": "Python 3"
    },
    "language_info": {
      "name": "python"
    }
  },
  "cells": [
    {
      "cell_type": "markdown",
      "metadata": {
        "id": "view-in-github",
        "colab_type": "text"
      },
      "source": [
        "<a href=\"https://colab.research.google.com/github/widowon/2021_SummerStudy_Python-DeepLearning/blob/main/08_Python_Comprehension_%EB%AC%B8%EB%B2%95.ipynb\" target=\"_parent\"><img src=\"https://colab.research.google.com/assets/colab-badge.svg\" alt=\"Open In Colab\"/></a>"
      ]
    },
    {
      "cell_type": "markdown",
      "metadata": {
        "id": "4JI6Pzj7V1l0"
      },
      "source": [
        "#Comprehension 문법"
      ]
    },
    {
      "cell_type": "markdown",
      "metadata": {
        "id": "HqCtJ457YPAC"
      },
      "source": [
        "- 반목문과 조건문, 변수등에 대한 연산까지 갖춘 편리한 문법\n",
        "- 종류로는 list, set, dict이 존재"
      ]
    },
    {
      "cell_type": "code",
      "metadata": {
        "colab": {
          "base_uri": "https://localhost:8080/"
        },
        "id": "Xb9o3mS-YcTU",
        "outputId": "5cd217a7-1b33-4286-8b17-bbd99c2d0c12"
      },
      "source": [
        "mylist = [1,2,3,4,5,6,7,8,9,10]\n",
        "\n",
        "for i in mylist:\n",
        "  #짝수 출력을 위한 조건문 생성\n",
        "  if i % 2 == 0:\n",
        "    print(i)"
      ],
      "execution_count": null,
      "outputs": [
        {
          "output_type": "stream",
          "text": [
            "2\n",
            "4\n",
            "6\n",
            "8\n",
            "10\n"
          ],
          "name": "stdout"
        }
      ]
    },
    {
      "cell_type": "code",
      "metadata": {
        "colab": {
          "base_uri": "https://localhost:8080/"
        },
        "id": "dUHQqvwBYkTh",
        "outputId": "9ce1ca4e-428b-425b-9026-37af33b1a91a"
      },
      "source": [
        "mylist = [1,2,3,4,5,6,7,8,9,10]\n",
        "even = []\n",
        "\n",
        "for i in mylist :\n",
        "  if i % 2 == 0:\n",
        "    even.append(i)\n",
        "print(even)"
      ],
      "execution_count": null,
      "outputs": [
        {
          "output_type": "stream",
          "text": [
            "[2, 4, 6, 8, 10]\n"
          ],
          "name": "stdout"
        }
      ]
    },
    {
      "cell_type": "markdown",
      "metadata": {
        "id": "mHNLUKfSZNZx"
      },
      "source": [
        "Comprehension 문법의 예시"
      ]
    },
    {
      "cell_type": "code",
      "metadata": {
        "id": "R6fAOmJ5ZRXj"
      },
      "source": [
        "mylist = [1,2,3,4,5,6,7,8,9,10]"
      ],
      "execution_count": null,
      "outputs": []
    },
    {
      "cell_type": "code",
      "metadata": {
        "colab": {
          "base_uri": "https://localhost:8080/"
        },
        "id": "UE1_yDdEZT0B",
        "outputId": "c756a6c2-96ac-42b4-a111-10f0832448ab"
      },
      "source": [
        "even = [i for i in mylist if i % 2 ==0]\n",
        "even"
      ],
      "execution_count": null,
      "outputs": [
        {
          "output_type": "execute_result",
          "data": {
            "text/plain": [
              "[2, 4, 6, 8, 10]"
            ]
          },
          "metadata": {
            "tags": []
          },
          "execution_count": 11
        }
      ]
    },
    {
      "cell_type": "markdown",
      "metadata": {
        "id": "gLHXlodlaITJ"
      },
      "source": [
        "###1. 반복문 생성"
      ]
    },
    {
      "cell_type": "code",
      "metadata": {
        "colab": {
          "base_uri": "https://localhost:8080/"
        },
        "id": "gL67b2WCZZu5",
        "outputId": "aad8c5b3-8c0b-4171-e78e-6aa692e850e2"
      },
      "source": [
        "even = [i for i in mylist]\n",
        "even"
      ],
      "execution_count": null,
      "outputs": [
        {
          "output_type": "execute_result",
          "data": {
            "text/plain": [
              "[1, 2, 3, 4, 5, 6, 7, 8, 9, 10]"
            ]
          },
          "metadata": {
            "tags": []
          },
          "execution_count": 12
        }
      ]
    },
    {
      "cell_type": "markdown",
      "metadata": {
        "id": "pO-z57BVaGmq"
      },
      "source": [
        "###2. 조건 필터 추가"
      ]
    },
    {
      "cell_type": "code",
      "metadata": {
        "colab": {
          "base_uri": "https://localhost:8080/"
        },
        "id": "bOpZpCY0aTsL",
        "outputId": "89e9eb08-ec3b-4461-8a81-f11a5fd94859"
      },
      "source": [
        "[i for i in mylist if i % 2 == 0]"
      ],
      "execution_count": null,
      "outputs": [
        {
          "output_type": "execute_result",
          "data": {
            "text/plain": [
              "[2, 4, 6, 8, 10]"
            ]
          },
          "metadata": {
            "tags": []
          },
          "execution_count": 16
        }
      ]
    },
    {
      "cell_type": "markdown",
      "metadata": {
        "id": "CuSGxok0ar3h"
      },
      "source": [
        "##set 형태"
      ]
    },
    {
      "cell_type": "code",
      "metadata": {
        "colab": {
          "base_uri": "https://localhost:8080/"
        },
        "id": "GVYjJyRmau0D",
        "outputId": "eaa13ed9-768a-4a72-eefb-342cc7d521e4"
      },
      "source": [
        "set_even = {i**2 for i in mylist if i % 2 == 0}\n",
        "set_even"
      ],
      "execution_count": null,
      "outputs": [
        {
          "output_type": "execute_result",
          "data": {
            "text/plain": [
              "{4, 16, 36, 64, 100}"
            ]
          },
          "metadata": {
            "tags": []
          },
          "execution_count": 18
        }
      ]
    },
    {
      "cell_type": "markdown",
      "metadata": {
        "id": "Ro0bH6Zxa6oh"
      },
      "source": [
        "##dict 형태"
      ]
    },
    {
      "cell_type": "code",
      "metadata": {
        "colab": {
          "base_uri": "https://localhost:8080/"
        },
        "id": "SOB5IIu5bCCa",
        "outputId": "8ae025d5-7ffd-4cdf-c854-d92027961450"
      },
      "source": [
        "dict_even = {i:i**2 for i in mylist if i % 2 == 0}\n",
        "dict_even"
      ],
      "execution_count": null,
      "outputs": [
        {
          "output_type": "execute_result",
          "data": {
            "text/plain": [
              "{2: 4, 4: 16, 6: 36, 8: 64, 10: 100}"
            ]
          },
          "metadata": {
            "tags": []
          },
          "execution_count": 20
        }
      ]
    }
  ]
}