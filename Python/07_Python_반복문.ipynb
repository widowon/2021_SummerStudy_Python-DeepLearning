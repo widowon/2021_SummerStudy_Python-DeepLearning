{
  "nbformat": 4,
  "nbformat_minor": 0,
  "metadata": {
    "colab": {
      "name": "07-Python-반복문.ipynb",
      "provenance": [],
      "collapsed_sections": [],
      "authorship_tag": "ABX9TyPNQXFKpyaECA9i1GiTikJ0",
      "include_colab_link": true
    },
    "kernelspec": {
      "name": "python3",
      "display_name": "Python 3"
    },
    "language_info": {
      "name": "python"
    }
  },
  "cells": [
    {
      "cell_type": "markdown",
      "metadata": {
        "id": "view-in-github",
        "colab_type": "text"
      },
      "source": [
        "<a href=\"https://colab.research.google.com/github/widowon/2021_SummerStudy_Python-DeepLearning/blob/main/07_Python_%EB%B0%98%EB%B3%B5%EB%AC%B8.ipynb\" target=\"_parent\"><img src=\"https://colab.research.google.com/assets/colab-badge.svg\" alt=\"Open In Colab\"/></a>"
      ]
    },
    {
      "cell_type": "markdown",
      "metadata": {
        "id": "GT2STilKJMD0"
      },
      "source": [
        "#반복문"
      ]
    },
    {
      "cell_type": "markdown",
      "metadata": {
        "id": "DcOT5O5PJO_I"
      },
      "source": [
        "- 1회 이상 반복하여 수행\n",
        "- 문자열까지 모두 순회 가능한 객체는 반복 할 수 있다\n"
      ]
    },
    {
      "cell_type": "code",
      "metadata": {
        "id": "OEQhNPf1Ja14"
      },
      "source": [
        "mylist = [1,2,3,4,5,6,7,8,9,10]"
      ],
      "execution_count": null,
      "outputs": []
    },
    {
      "cell_type": "markdown",
      "metadata": {
        "id": "rmSLwMBEJsDF"
      },
      "source": [
        "반복문이 없다면"
      ]
    },
    {
      "cell_type": "markdown",
      "metadata": {
        "id": "PWUYOWgEJuOH"
      },
      "source": [
        "힘듬"
      ]
    },
    {
      "cell_type": "markdown",
      "metadata": {
        "id": "-HudTzyVJ48X"
      },
      "source": [
        "##for 와 in 구문 (반복문)"
      ]
    },
    {
      "cell_type": "markdown",
      "metadata": {
        "id": "bXD8v4FMJ-Zt"
      },
      "source": [
        "###[기본문법]"
      ]
    },
    {
      "cell_type": "markdown",
      "metadata": {
        "id": "fexELV17KCct"
      },
      "source": [
        "for 하나씩 꺼내올때 변수 in[꺼내올 집합]:"
      ]
    },
    {
      "cell_type": "markdown",
      "metadata": {
        "id": "lxJXz_jCKNWO"
      },
      "source": [
        "##리스트(list)"
      ]
    },
    {
      "cell_type": "code",
      "metadata": {
        "id": "AVz1EmPPKS-1"
      },
      "source": [
        "mylist = [1,2,3,4,5]"
      ],
      "execution_count": null,
      "outputs": []
    },
    {
      "cell_type": "code",
      "metadata": {
        "colab": {
          "base_uri": "https://localhost:8080/"
        },
        "id": "BdsTCK5rKW-u",
        "outputId": "1212fb0f-cdfb-476e-ee2d-288fe9789c7b"
      },
      "source": [
        "for i in mylist:\n",
        "  print(i)"
      ],
      "execution_count": null,
      "outputs": [
        {
          "output_type": "stream",
          "text": [
            "1\n",
            "2\n",
            "3\n",
            "4\n",
            "5\n"
          ],
          "name": "stdout"
        }
      ]
    },
    {
      "cell_type": "markdown",
      "metadata": {
        "id": "T72snQF0Kafd"
      },
      "source": [
        "##튜플(tuple)"
      ]
    },
    {
      "cell_type": "code",
      "metadata": {
        "colab": {
          "base_uri": "https://localhost:8080/"
        },
        "id": "k_DIHB5SKh1d",
        "outputId": "3796e5d9-4545-466c-c014-bced0477b262"
      },
      "source": [
        "for i in (1,2,3,4,5):\n",
        "  print(i)"
      ],
      "execution_count": null,
      "outputs": [
        {
          "output_type": "stream",
          "text": [
            "1\n",
            "2\n",
            "3\n",
            "4\n",
            "5\n"
          ],
          "name": "stdout"
        }
      ]
    },
    {
      "cell_type": "markdown",
      "metadata": {
        "id": "dYSdcPZoLbON"
      },
      "source": [
        "##tuple + list"
      ]
    },
    {
      "cell_type": "markdown",
      "metadata": {
        "id": "Cwqwqjf2LeR2"
      },
      "source": [
        "tuple을 전체로 받아주는 경우"
      ]
    },
    {
      "cell_type": "code",
      "metadata": {
        "colab": {
          "base_uri": "https://localhost:8080/"
        },
        "id": "UOfYEQ_mLiJ_",
        "outputId": "81cc4a45-bc31-46df-c881-d98a8278b900"
      },
      "source": [
        "person = ('제이콥스', 10)\n",
        "print(person)\n",
        "print(person[0])\n",
        "print(person[1])"
      ],
      "execution_count": null,
      "outputs": [
        {
          "output_type": "stream",
          "text": [
            "('제이콥스', 10)\n",
            "제이콥스\n",
            "10\n"
          ],
          "name": "stdout"
        }
      ]
    },
    {
      "cell_type": "markdown",
      "metadata": {
        "id": "Buzq8CbeLtdF"
      },
      "source": [
        "tuple의 요소를 개별로 받아주는 경우\n"
      ]
    },
    {
      "cell_type": "code",
      "metadata": {
        "colab": {
          "base_uri": "https://localhost:8080/"
        },
        "id": "7r5M1YLpLy4W",
        "outputId": "c3cc504c-4d4e-4a17-8c53-2fbf4b24b110"
      },
      "source": [
        "name, age = ('제이콥스', 10)\n",
        "print(name)\n",
        "print(age)"
      ],
      "execution_count": null,
      "outputs": [
        {
          "output_type": "stream",
          "text": [
            "제이콥스\n",
            "10\n"
          ],
          "name": "stdout"
        }
      ]
    },
    {
      "cell_type": "markdown",
      "metadata": {
        "id": "O-5GQANXL-Ge"
      },
      "source": [
        "반복문에서의 응용"
      ]
    },
    {
      "cell_type": "code",
      "metadata": {
        "colab": {
          "base_uri": "https://localhost:8080/"
        },
        "id": "v45YPQjiMHl_",
        "outputId": "947fe5b0-2d21-4074-d9b5-894b7f9a4a41"
      },
      "source": [
        "mytuplelist = [('제이콥스', 10), ('피터', 20), ('타이거', 30)]\n",
        "\n",
        "for mytuple in mytuplelist:\n",
        "  print(mytuple[0], mytuple[1])"
      ],
      "execution_count": null,
      "outputs": [
        {
          "output_type": "stream",
          "text": [
            "제이콥스 10\n",
            "피터 20\n",
            "타이거 30\n"
          ],
          "name": "stdout"
        }
      ]
    },
    {
      "cell_type": "code",
      "metadata": {
        "colab": {
          "base_uri": "https://localhost:8080/"
        },
        "id": "IEOAV-jcMmxd",
        "outputId": "04a3d250-6aa4-480f-86f8-1c067cf94c2e"
      },
      "source": [
        "mytuplelist = [('제이콥스', 10), ('피터', 20), ('타이거', 30)]\n",
        "\n",
        "for name, age in mytuplelist:\n",
        "  print(name, age)"
      ],
      "execution_count": null,
      "outputs": [
        {
          "output_type": "stream",
          "text": [
            "제이콥스 10\n",
            "피터 20\n",
            "타이거 30\n"
          ],
          "name": "stdout"
        }
      ]
    },
    {
      "cell_type": "markdown",
      "metadata": {
        "id": "Dcbk_Y7XMrPl"
      },
      "source": [
        "##딕셔너리"
      ]
    },
    {
      "cell_type": "code",
      "metadata": {
        "id": "xShqq2S-NGEM"
      },
      "source": [
        "mydict = {'헐크': 50, '아이언맨': 60, '펭수': 70}"
      ],
      "execution_count": null,
      "outputs": []
    },
    {
      "cell_type": "code",
      "metadata": {
        "colab": {
          "base_uri": "https://localhost:8080/"
        },
        "id": "4A05LXRnNPo9",
        "outputId": "3ca77b05-58da-4a76-89b1-dd3a1d31d016"
      },
      "source": [
        "for key in mydict.keys():\n",
        "  print(key)"
      ],
      "execution_count": null,
      "outputs": [
        {
          "output_type": "stream",
          "text": [
            "헐크\n",
            "아이언맨\n",
            "펭수\n"
          ],
          "name": "stdout"
        }
      ]
    },
    {
      "cell_type": "code",
      "metadata": {
        "colab": {
          "base_uri": "https://localhost:8080/"
        },
        "id": "jvHHoG0xNe6t",
        "outputId": "81074fc0-1d04-4907-c7ea-a66f77a48d36"
      },
      "source": [
        "for value in mydict.values():\n",
        "  print(value)"
      ],
      "execution_count": null,
      "outputs": [
        {
          "output_type": "stream",
          "text": [
            "50\n",
            "60\n",
            "70\n"
          ],
          "name": "stdout"
        }
      ]
    },
    {
      "cell_type": "code",
      "metadata": {
        "colab": {
          "base_uri": "https://localhost:8080/"
        },
        "id": "PE0ngV35NzBN",
        "outputId": "1f78d193-cd7d-453c-d282-6081ddc95bb4"
      },
      "source": [
        "for name , age in mydict.items():\n",
        "  print(name, age)"
      ],
      "execution_count": null,
      "outputs": [
        {
          "output_type": "stream",
          "text": [
            "헐크 50\n",
            "아이언맨 60\n",
            "펭수 70\n"
          ],
          "name": "stdout"
        }
      ]
    },
    {
      "cell_type": "markdown",
      "metadata": {
        "id": "lJ57bHPDN8a9"
      },
      "source": [
        "##문자열(str)"
      ]
    },
    {
      "cell_type": "code",
      "metadata": {
        "colab": {
          "base_uri": "https://localhost:8080/"
        },
        "id": "OdVETUtGOAsd",
        "outputId": "58c19f39-feee-4603-d8d4-146da0137d93"
      },
      "source": [
        "for c in \"Hello\":\n",
        "  print(c)"
      ],
      "execution_count": null,
      "outputs": [
        {
          "output_type": "stream",
          "text": [
            "H\n",
            "e\n",
            "l\n",
            "l\n",
            "o\n"
          ],
          "name": "stdout"
        }
      ]
    },
    {
      "cell_type": "markdown",
      "metadata": {
        "id": "Pp_C1ta9OKMV"
      },
      "source": [
        "##range()"
      ]
    },
    {
      "cell_type": "markdown",
      "metadata": {
        "id": "Myu9zlJgOm2V"
      },
      "source": [
        "- range() 함수는 별도의 list,tuple 생성 없이 range()에서 의한 범위를 반복하는데 활용 할 수 있습니다.\n",
        "- range(start, stop, step)형식으로 사용"
      ]
    },
    {
      "cell_type": "markdown",
      "metadata": {
        "id": "U97w37t1O_q2"
      },
      "source": [
        "stop 단일 값을 지정하는 경우"
      ]
    },
    {
      "cell_type": "code",
      "metadata": {
        "colab": {
          "base_uri": "https://localhost:8080/"
        },
        "id": "Z2dadE3dPE4l",
        "outputId": "357a933c-5f1f-44e2-c352-321cb0600e47"
      },
      "source": [
        "for i in range(10):\n",
        "  print(i)"
      ],
      "execution_count": null,
      "outputs": [
        {
          "output_type": "stream",
          "text": [
            "0\n",
            "1\n",
            "2\n",
            "3\n",
            "4\n",
            "5\n",
            "6\n",
            "7\n",
            "8\n",
            "9\n"
          ],
          "name": "stdout"
        }
      ]
    },
    {
      "cell_type": "markdown",
      "metadata": {
        "id": "CsuvZzK8PIZi"
      },
      "source": [
        "start, stop 두개의 값을 지정한 경우"
      ]
    },
    {
      "cell_type": "code",
      "metadata": {
        "colab": {
          "base_uri": "https://localhost:8080/"
        },
        "id": "TIZXX4KVPUHe",
        "outputId": "861d579b-ebf0-41ca-a0f9-82b0922e171f"
      },
      "source": [
        "for i in range(2,9):\n",
        "  print(i)"
      ],
      "execution_count": null,
      "outputs": [
        {
          "output_type": "stream",
          "text": [
            "2\n",
            "3\n",
            "4\n",
            "5\n",
            "6\n",
            "7\n",
            "8\n"
          ],
          "name": "stdout"
        }
      ]
    },
    {
      "cell_type": "markdown",
      "metadata": {
        "id": "TxgPqmp9PrDc"
      },
      "source": [
        "start, stop, step : 세 개의 값을 지정하는 경우"
      ]
    },
    {
      "cell_type": "code",
      "metadata": {
        "colab": {
          "base_uri": "https://localhost:8080/"
        },
        "id": "kPp80lcNPxZ1",
        "outputId": "9cc3b743-218c-45c2-b5c3-043a19cb6b6f"
      },
      "source": [
        "for i in range(1,10,2):\n",
        "  print(i)"
      ],
      "execution_count": null,
      "outputs": [
        {
          "output_type": "stream",
          "text": [
            "1\n",
            "3\n",
            "5\n",
            "7\n",
            "9\n"
          ],
          "name": "stdout"
        }
      ]
    },
    {
      "cell_type": "markdown",
      "metadata": {
        "id": "F8M9EzrIP1o0"
      },
      "source": [
        "##반복문의 중첩"
      ]
    },
    {
      "cell_type": "code",
      "metadata": {
        "colab": {
          "base_uri": "https://localhost:8080/"
        },
        "id": "y2C49tAzP65v",
        "outputId": "a4f0d423-5c90-44b6-96c2-b9e4a725ac03"
      },
      "source": [
        "for i in range(1,4):\n",
        "  for j in range(1,4):\n",
        "    print(f'(i={i})+ (j={j}) = {i*j}')\n",
        "  print('===')"
      ],
      "execution_count": null,
      "outputs": [
        {
          "output_type": "stream",
          "text": [
            "(i=1)+ (j=1) = 1\n",
            "(i=1)+ (j=2) = 2\n",
            "(i=1)+ (j=3) = 3\n",
            "===\n",
            "(i=2)+ (j=1) = 2\n",
            "(i=2)+ (j=2) = 4\n",
            "(i=2)+ (j=3) = 6\n",
            "===\n",
            "(i=3)+ (j=1) = 3\n",
            "(i=3)+ (j=2) = 6\n",
            "(i=3)+ (j=3) = 9\n",
            "===\n"
          ],
          "name": "stdout"
        }
      ]
    },
    {
      "cell_type": "markdown",
      "metadata": {
        "id": "3A_DFWkMQld0"
      },
      "source": [
        "##제어문"
      ]
    },
    {
      "cell_type": "markdown",
      "metadata": {
        "id": "JL_jLvptR7MW"
      },
      "source": [
        "##continue"
      ]
    },
    {
      "cell_type": "markdown",
      "metadata": {
        "id": "eEgMc1C8R_Ls"
      },
      "source": [
        "- 건너뛰게 한다\n",
        "- continue 아래에 작성된 코드는 실행 되지 않는다"
      ]
    },
    {
      "cell_type": "code",
      "metadata": {
        "id": "fkST8XctSILG"
      },
      "source": [
        "mylist = [1,2,3,4,5,6,7,8,9,10]"
      ],
      "execution_count": null,
      "outputs": []
    },
    {
      "cell_type": "code",
      "metadata": {
        "colab": {
          "base_uri": "https://localhost:8080/"
        },
        "id": "K29zbCn0SN2k",
        "outputId": "5e689dc8-791d-461a-a161-289c48699e3b"
      },
      "source": [
        "for i in mylist:\n",
        "  if i % 2 == 1:\n",
        "    continue\n",
        "  print(i)"
      ],
      "execution_count": null,
      "outputs": [
        {
          "output_type": "stream",
          "text": [
            "2\n",
            "4\n",
            "6\n",
            "8\n",
            "10\n"
          ],
          "name": "stdout"
        }
      ]
    },
    {
      "cell_type": "markdown",
      "metadata": {
        "id": "RPdFxE8gSrej"
      },
      "source": [
        "##break"
      ]
    },
    {
      "cell_type": "markdown",
      "metadata": {
        "id": "6o92IWgLStnT"
      },
      "source": [
        "- break 구문을 만나면 반복루프는 즉시 종료됩니다."
      ]
    },
    {
      "cell_type": "code",
      "metadata": {
        "id": "eLHoi_J5SzKT"
      },
      "source": [
        "mylist = [1,2,3,4,5,6,7,8,9,10]"
      ],
      "execution_count": null,
      "outputs": []
    },
    {
      "cell_type": "code",
      "metadata": {
        "colab": {
          "base_uri": "https://localhost:8080/"
        },
        "id": "SLCUfpboS8rT",
        "outputId": "fb87127e-6cc5-4f9f-a61a-4bbbf640f6d3"
      },
      "source": [
        "for i in mylist:\n",
        "  if i >=6:\n",
        "    break\n",
        "  print(i)"
      ],
      "execution_count": null,
      "outputs": [
        {
          "output_type": "stream",
          "text": [
            "1\n",
            "2\n",
            "3\n",
            "4\n",
            "5\n"
          ],
          "name": "stdout"
        }
      ]
    },
    {
      "cell_type": "markdown",
      "metadata": {
        "id": "ajMFTsBmS-2j"
      },
      "source": [
        "##break 와 continue의 차이"
      ]
    },
    {
      "cell_type": "code",
      "metadata": {
        "colab": {
          "base_uri": "https://localhost:8080/"
        },
        "id": "gZvgwO-vTad1",
        "outputId": "e8f8aee9-eea2-4654-e996-9297f2717d4c"
      },
      "source": [
        "for i in range(10):\n",
        "  if i ==5:\n",
        "    break\n",
        "  print(i)"
      ],
      "execution_count": null,
      "outputs": [
        {
          "output_type": "stream",
          "text": [
            "0\n",
            "1\n",
            "2\n",
            "3\n",
            "4\n"
          ],
          "name": "stdout"
        }
      ]
    },
    {
      "cell_type": "code",
      "metadata": {
        "colab": {
          "base_uri": "https://localhost:8080/"
        },
        "id": "YmuhbslJTiwE",
        "outputId": "485f4e06-ec46-4e65-8d58-0f4cdf517c82"
      },
      "source": [
        "for  i in range(10):\n",
        "  if i == 5:\n",
        "    continue\n",
        "  print(i)"
      ],
      "execution_count": null,
      "outputs": [
        {
          "output_type": "stream",
          "text": [
            "0\n",
            "1\n",
            "2\n",
            "3\n",
            "4\n",
            "6\n",
            "7\n",
            "8\n",
            "9\n"
          ],
          "name": "stdout"
        }
      ]
    },
    {
      "cell_type": "markdown",
      "metadata": {
        "id": "y20KA1f4T5HT"
      },
      "source": [
        "##While"
      ]
    },
    {
      "cell_type": "markdown",
      "metadata": {
        "id": "hfAoqmHoT8pz"
      },
      "source": [
        "- Whlie 문은 조건이 참인 동안 반복 루프를 수행한다"
      ]
    },
    {
      "cell_type": "code",
      "metadata": {
        "colab": {
          "base_uri": "https://localhost:8080/"
        },
        "id": "mVQQKUI1UC7z",
        "outputId": "3af1dc5d-bfca-476c-92f1-38b664fe949b"
      },
      "source": [
        "count = 5\n",
        "while count >0:\n",
        "  print(count)\n",
        "  count-=1"
      ],
      "execution_count": null,
      "outputs": [
        {
          "output_type": "stream",
          "text": [
            "5\n",
            "4\n",
            "3\n",
            "2\n",
            "1\n"
          ],
          "name": "stdout"
        }
      ]
    },
    {
      "cell_type": "markdown",
      "metadata": {
        "id": "FA5hb4_8UHtD"
      },
      "source": [
        "무한루프 생성"
      ]
    },
    {
      "cell_type": "code",
      "metadata": {
        "colab": {
          "base_uri": "https://localhost:8080/"
        },
        "id": "Q84OwkOQURll",
        "outputId": "a03102c4-a287-4773-b60b-7d6cb9819623"
      },
      "source": [
        "count =1\n",
        "\n",
        "while True:\n",
        "  print(count)\n",
        "  count += 1\n",
        "  if count >5:\n",
        "    break"
      ],
      "execution_count": null,
      "outputs": [
        {
          "output_type": "stream",
          "text": [
            "1\n",
            "2\n",
            "3\n",
            "4\n",
            "5\n"
          ],
          "name": "stdout"
        }
      ]
    }
  ]
}
