{
  "nbformat": 4,
  "nbformat_minor": 0,
  "metadata": {
    "colab": {
      "name": "04-Python-문자열.ipynb",
      "provenance": [],
      "collapsed_sections": [],
      "authorship_tag": "ABX9TyO4L8DNYbkGvj12ry51NpHG",
      "include_colab_link": true
    },
    "kernelspec": {
      "name": "python3",
      "display_name": "Python 3"
    },
    "language_info": {
      "name": "python"
    }
  },
  "cells": [
    {
      "cell_type": "markdown",
      "metadata": {
        "id": "view-in-github",
        "colab_type": "text"
      },
      "source": [
        "<a href=\"https://colab.research.google.com/github/widowon/2021_SummerStudy_Python-DeepLearning/blob/main/04_Python_%EB%AC%B8%EC%9E%90%EC%97%B4.ipynb\" target=\"_parent\"><img src=\"https://colab.research.google.com/assets/colab-badge.svg\" alt=\"Open In Colab\"/></a>"
      ]
    },
    {
      "cell_type": "markdown",
      "metadata": {
        "id": "uLSshjiW_Q6k"
      },
      "source": [
        "#문자열"
      ]
    },
    {
      "cell_type": "markdown",
      "metadata": {
        "id": "U0PoJEe-BSZz"
      },
      "source": [
        "* 자연어 처리 데이터는 대부분 텍스트로 이루어짐\n",
        "* 한글, 영어 모두 처리 할 수 있어야함"
      ]
    },
    {
      "cell_type": "markdown",
      "metadata": {
        "id": "3W-DP-xYBgtt"
      },
      "source": [
        "##특성"
      ]
    },
    {
      "cell_type": "markdown",
      "metadata": {
        "id": "0gJGiaMtBjp3"
      },
      "source": [
        "문자형은 불변 객체"
      ]
    },
    {
      "cell_type": "markdown",
      "metadata": {
        "id": "5yLKbP5bBnLC"
      },
      "source": [
        "##문자열 생성은 따옴표로 생성"
      ]
    },
    {
      "cell_type": "markdown",
      "metadata": {
        "id": "cbBb9pdgBtG_"
      },
      "source": [
        "##문자열 출력"
      ]
    },
    {
      "cell_type": "markdown",
      "metadata": {
        "id": "2xrdm1DqB1dX"
      },
      "source": [
        "* print()"
      ]
    },
    {
      "cell_type": "markdown",
      "metadata": {
        "id": "_xzxJabfB4c-"
      },
      "source": [
        "* end 옵션으로 기본적으로 줄바꿈 됨\n"
      ]
    },
    {
      "cell_type": "markdown",
      "metadata": {
        "id": "btIpuYuoCUp9"
      },
      "source": [
        "sep으로 각 문자열에 추가 가능"
      ]
    },
    {
      "cell_type": "markdown",
      "metadata": {
        "id": "dVR4bgLFCjjN"
      },
      "source": [
        "##help() 안에 함수를 넣을 경우 옵션 확인 가능"
      ]
    },
    {
      "cell_type": "code",
      "metadata": {
        "colab": {
          "base_uri": "https://localhost:8080/"
        },
        "id": "C30uJfTpCtjb",
        "outputId": "67ed785d-b9d7-4e9d-b0bd-cb4e0ac8e0cd"
      },
      "source": [
        "help(print)"
      ],
      "execution_count": null,
      "outputs": [
        {
          "output_type": "stream",
          "text": [
            "Help on built-in function print in module builtins:\n",
            "\n",
            "print(...)\n",
            "    print(value, ..., sep=' ', end='\\n', file=sys.stdout, flush=False)\n",
            "    \n",
            "    Prints the values to a stream, or to sys.stdout by default.\n",
            "    Optional keyword arguments:\n",
            "    file:  a file-like object (stream); defaults to the current sys.stdout.\n",
            "    sep:   string inserted between values, default a space.\n",
            "    end:   string appended after the last value, default a newline.\n",
            "    flush: whether to forcibly flush the stream.\n",
            "\n"
          ],
          "name": "stdout"
        }
      ]
    },
    {
      "cell_type": "markdown",
      "metadata": {
        "id": "hUFtx1T9DOd2"
      },
      "source": [
        "##%를 사용한 "
      ]
    },
    {
      "cell_type": "code",
      "metadata": {
        "colab": {
          "base_uri": "https://localhost:8080/",
          "height": 35
        },
        "id": "pQihANYsDV2u",
        "outputId": "5ed37880-7abe-4776-d85c-ef5f1a83cb65"
      },
      "source": [
        "\"안녕하세요? %s\" % ('반갑습니다.')"
      ],
      "execution_count": null,
      "outputs": [
        {
          "output_type": "execute_result",
          "data": {
            "application/vnd.google.colaboratory.intrinsic+json": {
              "type": "string"
            },
            "text/plain": [
              "'안녕하세요? 반갑습니다.'"
            ]
          },
          "metadata": {
            "tags": []
          },
          "execution_count": 4
        }
      ]
    },
    {
      "cell_type": "code",
      "metadata": {
        "colab": {
          "base_uri": "https://localhost:8080/",
          "height": 35
        },
        "id": "6vFI7S1DDfxL",
        "outputId": "e4da95be-bc6d-4e6a-f790-e7e5c9cb93b4"
      },
      "source": [
        "\"안녕하세요? %.3f\" % (0.1234)"
      ],
      "execution_count": null,
      "outputs": [
        {
          "output_type": "execute_result",
          "data": {
            "application/vnd.google.colaboratory.intrinsic+json": {
              "type": "string"
            },
            "text/plain": [
              "'안녕하세요? 0.123'"
            ]
          },
          "metadata": {
            "tags": []
          },
          "execution_count": 6
        }
      ]
    },
    {
      "cell_type": "code",
      "metadata": {
        "colab": {
          "base_uri": "https://localhost:8080/",
          "height": 35
        },
        "id": "uZiWN13cDkaN",
        "outputId": "9ed4185f-1533-4118-e8b2-ebfc2f2ad049"
      },
      "source": [
        "\"안녕하세요? %d\" % (12345)"
      ],
      "execution_count": null,
      "outputs": [
        {
          "output_type": "execute_result",
          "data": {
            "application/vnd.google.colaboratory.intrinsic+json": {
              "type": "string"
            },
            "text/plain": [
              "'안녕하세요? 12345'"
            ]
          },
          "metadata": {
            "tags": []
          },
          "execution_count": 7
        }
      ]
    },
    {
      "cell_type": "code",
      "metadata": {
        "colab": {
          "base_uri": "https://localhost:8080/",
          "height": 35
        },
        "id": "G0V3BZ84Dti8",
        "outputId": "4defa640-02f4-44e7-8abd-9de0965f99e5"
      },
      "source": [
        "\"안녕하세요? %c\" % ('a')"
      ],
      "execution_count": null,
      "outputs": [
        {
          "output_type": "execute_result",
          "data": {
            "application/vnd.google.colaboratory.intrinsic+json": {
              "type": "string"
            },
            "text/plain": [
              "'안녕하세요? a'"
            ]
          },
          "metadata": {
            "tags": []
          },
          "execution_count": 9
        }
      ]
    },
    {
      "cell_type": "markdown",
      "metadata": {
        "id": "PNnUDgZMDy1N"
      },
      "source": [
        "##{}와 format 를 사용한 출력"
      ]
    },
    {
      "cell_type": "code",
      "metadata": {
        "colab": {
          "base_uri": "https://localhost:8080/",
          "height": 35
        },
        "id": "H33MZnCLD29P",
        "outputId": "31c56840-69f3-4844-f081-b6e9bd11d78d"
      },
      "source": [
        "'안녕?{}'.format('친구들.')"
      ],
      "execution_count": null,
      "outputs": [
        {
          "output_type": "execute_result",
          "data": {
            "application/vnd.google.colaboratory.intrinsic+json": {
              "type": "string"
            },
            "text/plain": [
              "'안녕?친구들.'"
            ]
          },
          "metadata": {
            "tags": []
          },
          "execution_count": 15
        }
      ]
    },
    {
      "cell_type": "markdown",
      "metadata": {
        "id": "rFAgOzXQEQxm"
      },
      "source": [
        "##f문자열 포맷팅"
      ]
    },
    {
      "cell_type": "code",
      "metadata": {
        "id": "D0H6gqoFET4k",
        "colab": {
          "base_uri": "https://localhost:8080/"
        },
        "outputId": "83509a33-f605-4cdb-ebba-c5531bd2f43a"
      },
      "source": [
        "name = '펭수'\n",
        "age =11\n",
        "print(f'나의 이름은 {name}입니다. 나이는 {age} 살 입니다. ')"
      ],
      "execution_count": null,
      "outputs": [
        {
          "output_type": "stream",
          "text": [
            "나의 이름은 펭수입니다. 나이는 11 살 입니다. \n"
          ],
          "name": "stdout"
        }
      ]
    },
    {
      "cell_type": "code",
      "metadata": {
        "colab": {
          "base_uri": "https://localhost:8080/"
        },
        "id": "otJZEtWRSgVf",
        "outputId": "1f55e245-bdb5-4581-dad7-29346942f267"
      },
      "source": [
        "print(f'내년에 저는 {age+1} 살입니다. ')"
      ],
      "execution_count": null,
      "outputs": [
        {
          "output_type": "stream",
          "text": [
            "내년에 저는 12 살입니다. \n"
          ],
          "name": "stdout"
        }
      ]
    },
    {
      "cell_type": "markdown",
      "metadata": {
        "id": "P-42JgHxSo7_"
      },
      "source": [
        "##split() 분리"
      ]
    },
    {
      "cell_type": "code",
      "metadata": {
        "id": "HcnPpuCXTazk"
      },
      "source": [
        "a = 'This is a pen'"
      ],
      "execution_count": null,
      "outputs": []
    },
    {
      "cell_type": "code",
      "metadata": {
        "colab": {
          "base_uri": "https://localhost:8080/"
        },
        "id": "JCbx317MThBE",
        "outputId": "74b3ea6f-02de-4062-da0f-618ae8d2494d"
      },
      "source": [
        "a.split()"
      ],
      "execution_count": null,
      "outputs": [
        {
          "output_type": "execute_result",
          "data": {
            "text/plain": [
              "['This', 'is', 'a', 'pen']"
            ]
          },
          "metadata": {
            "tags": []
          },
          "execution_count": 25
        }
      ]
    },
    {
      "cell_type": "code",
      "metadata": {
        "id": "aMA0lsdSTpmm"
      },
      "source": [
        "a= 'This-is-a-pen'"
      ],
      "execution_count": null,
      "outputs": []
    },
    {
      "cell_type": "code",
      "metadata": {
        "colab": {
          "base_uri": "https://localhost:8080/"
        },
        "id": "hU8mEOdOTklT",
        "outputId": "c4bedea7-b969-491d-e0cc-6f579cd3dff8"
      },
      "source": [
        "aa = a.split('-')\n",
        "aa"
      ],
      "execution_count": null,
      "outputs": [
        {
          "output_type": "execute_result",
          "data": {
            "text/plain": [
              "['This', 'is', 'a', 'pen']"
            ]
          },
          "metadata": {
            "tags": []
          },
          "execution_count": 33
        }
      ]
    },
    {
      "cell_type": "markdown",
      "metadata": {
        "id": "4aleXHKVUDr8"
      },
      "source": [
        "##join() 합치기"
      ]
    },
    {
      "cell_type": "code",
      "metadata": {
        "colab": {
          "base_uri": "https://localhost:8080/",
          "height": 35
        },
        "id": "myaJRwvnUJH2",
        "outputId": "7c93a115-3f49-4d02-fb1a-b981888937af"
      },
      "source": [
        "'-'.join('ABCDE')"
      ],
      "execution_count": null,
      "outputs": [
        {
          "output_type": "execute_result",
          "data": {
            "application/vnd.google.colaboratory.intrinsic+json": {
              "type": "string"
            },
            "text/plain": [
              "'A-B-C-D-E'"
            ]
          },
          "metadata": {
            "tags": []
          },
          "execution_count": 37
        }
      ]
    },
    {
      "cell_type": "markdown",
      "metadata": {
        "id": "iGy8n4LSUT10"
      },
      "source": [
        "##lower(), upper() 소문자/대문자로 만들기"
      ]
    },
    {
      "cell_type": "code",
      "metadata": {
        "id": "A_GhnztGUbz9"
      },
      "source": [
        "a = 'Holy god damn'"
      ],
      "execution_count": null,
      "outputs": []
    },
    {
      "cell_type": "code",
      "metadata": {
        "colab": {
          "base_uri": "https://localhost:8080/",
          "height": 35
        },
        "id": "upIIMe_NUhKU",
        "outputId": "aee5c5b6-0bc7-4b88-d0bb-78ddb65f2f03"
      },
      "source": [
        "a.lower()"
      ],
      "execution_count": null,
      "outputs": [
        {
          "output_type": "execute_result",
          "data": {
            "application/vnd.google.colaboratory.intrinsic+json": {
              "type": "string"
            },
            "text/plain": [
              "'holy god damn'"
            ]
          },
          "metadata": {
            "tags": []
          },
          "execution_count": 40
        }
      ]
    },
    {
      "cell_type": "code",
      "metadata": {
        "colab": {
          "base_uri": "https://localhost:8080/",
          "height": 35
        },
        "id": "G1bC8bAMUjCE",
        "outputId": "f0ab315d-b5c6-4389-8c83-98a25a84d07d"
      },
      "source": [
        "a.upper()"
      ],
      "execution_count": null,
      "outputs": [
        {
          "output_type": "execute_result",
          "data": {
            "application/vnd.google.colaboratory.intrinsic+json": {
              "type": "string"
            },
            "text/plain": [
              "'HOLY GOD DAMN'"
            ]
          },
          "metadata": {
            "tags": []
          },
          "execution_count": 42
        }
      ]
    },
    {
      "cell_type": "markdown",
      "metadata": {
        "id": "avp98JNhUmSy"
      },
      "source": [
        "#startswith, endswith"
      ]
    },
    {
      "cell_type": "code",
      "metadata": {
        "id": "qLd13JzYUr7U"
      },
      "source": [
        "a= '01-sample.png'"
      ],
      "execution_count": 6,
      "outputs": []
    },
    {
      "cell_type": "markdown",
      "metadata": {
        "id": "tyJqqEQ9Uvz1"
      },
      "source": [
        "###startswith() 시작하는"
      ]
    },
    {
      "cell_type": "code",
      "metadata": {
        "colab": {
          "base_uri": "https://localhost:8080/"
        },
        "id": "OGjZ1NJkU7rk",
        "outputId": "60fc0b17-8798-4905-e95b-5f0dca1f06e7"
      },
      "source": [
        "a.startswith('01')"
      ],
      "execution_count": null,
      "outputs": [
        {
          "output_type": "execute_result",
          "data": {
            "text/plain": [
              "True"
            ]
          },
          "metadata": {
            "tags": []
          },
          "execution_count": 45
        }
      ]
    },
    {
      "cell_type": "code",
      "metadata": {
        "colab": {
          "base_uri": "https://localhost:8080/"
        },
        "id": "qtjAJbnNVBG0",
        "outputId": "4108227f-9db8-44a3-c9d9-fb6b6a402778"
      },
      "source": [
        "a.startswith('02')"
      ],
      "execution_count": null,
      "outputs": [
        {
          "output_type": "execute_result",
          "data": {
            "text/plain": [
              "False"
            ]
          },
          "metadata": {
            "tags": []
          },
          "execution_count": 47
        }
      ]
    },
    {
      "cell_type": "markdown",
      "metadata": {
        "id": "vyyNBqNiVKZc"
      },
      "source": [
        "###endswith() 끝나는"
      ]
    },
    {
      "cell_type": "code",
      "metadata": {
        "colab": {
          "base_uri": "https://localhost:8080/"
        },
        "id": "Si0mvVTVbmF7",
        "outputId": "fe735da0-6721-4073-a356-3ba68f8b093e"
      },
      "source": [
        "a.endswith('.png')"
      ],
      "execution_count": 7,
      "outputs": [
        {
          "output_type": "execute_result",
          "data": {
            "text/plain": [
              "True"
            ]
          },
          "metadata": {
            "tags": []
          },
          "execution_count": 7
        }
      ]
    },
    {
      "cell_type": "code",
      "metadata": {
        "colab": {
          "base_uri": "https://localhost:8080/"
        },
        "id": "kh1N8f48bpwH",
        "outputId": "3f17bbec-72c8-47f0-fa2b-e7c72fb7f6d7"
      },
      "source": [
        "a.endswith('.jpg')"
      ],
      "execution_count": 9,
      "outputs": [
        {
          "output_type": "execute_result",
          "data": {
            "text/plain": [
              "False"
            ]
          },
          "metadata": {
            "tags": []
          },
          "execution_count": 9
        }
      ]
    },
    {
      "cell_type": "markdown",
      "metadata": {
        "id": "OuNITVzOb8Ha"
      },
      "source": [
        "##replace 문자열 바꾸기"
      ]
    },
    {
      "cell_type": "code",
      "metadata": {
        "id": "8dt9RaxwcBfT"
      },
      "source": [
        "a = '01-sample.png'"
      ],
      "execution_count": 10,
      "outputs": []
    },
    {
      "cell_type": "code",
      "metadata": {
        "colab": {
          "base_uri": "https://localhost:8080/",
          "height": 35
        },
        "id": "A_iG2c6PcFVp",
        "outputId": "9978ed4c-80aa-4433-e63c-20de91cbf0ed"
      },
      "source": [
        "a.replace('.png', '.jpg')"
      ],
      "execution_count": 11,
      "outputs": [
        {
          "output_type": "execute_result",
          "data": {
            "application/vnd.google.colaboratory.intrinsic+json": {
              "type": "string"
            },
            "text/plain": [
              "'01-sample.jpg'"
            ]
          },
          "metadata": {
            "tags": []
          },
          "execution_count": 11
        }
      ]
    },
    {
      "cell_type": "markdown",
      "metadata": {
        "id": "UCCa7ctlcLxh"
      },
      "source": [
        "##불필요한 공백 제거"
      ]
    },
    {
      "cell_type": "markdown",
      "metadata": {
        "id": "zUvXLc4hcOub"
      },
      "source": [
        "###lstrip() 왼쪽 공백제거"
      ]
    },
    {
      "cell_type": "code",
      "metadata": {
        "colab": {
          "base_uri": "https://localhost:8080/",
          "height": 35
        },
        "id": "GrCsOX4McTVq",
        "outputId": "056e5b58-b358-4b0a-94f8-2cf6c4b338b0"
      },
      "source": [
        "a.lstrip()"
      ],
      "execution_count": 12,
      "outputs": [
        {
          "output_type": "execute_result",
          "data": {
            "application/vnd.google.colaboratory.intrinsic+json": {
              "type": "string"
            },
            "text/plain": [
              "'01-sample.png'"
            ]
          },
          "metadata": {
            "tags": []
          },
          "execution_count": 12
        }
      ]
    },
    {
      "cell_type": "markdown",
      "metadata": {
        "id": "YV7n6GOCcWMR"
      },
      "source": [
        "###rstrip() 오른쪽공백 제거"
      ]
    },
    {
      "cell_type": "code",
      "metadata": {
        "colab": {
          "base_uri": "https://localhost:8080/",
          "height": 35
        },
        "id": "XjDDEnB-cd3b",
        "outputId": "81493fcf-cd18-4f89-913d-a8edbe4cebe2"
      },
      "source": [
        "a.rstrip()"
      ],
      "execution_count": 13,
      "outputs": [
        {
          "output_type": "execute_result",
          "data": {
            "application/vnd.google.colaboratory.intrinsic+json": {
              "type": "string"
            },
            "text/plain": [
              "'01-sample.png'"
            ]
          },
          "metadata": {
            "tags": []
          },
          "execution_count": 13
        }
      ]
    },
    {
      "cell_type": "markdown",
      "metadata": {
        "id": "_njLeq-YcfkB"
      },
      "source": [
        "###strip 양쪽 공백 제거"
      ]
    },
    {
      "cell_type": "code",
      "metadata": {
        "colab": {
          "base_uri": "https://localhost:8080/",
          "height": 35
        },
        "id": "T8T74zWicj06",
        "outputId": "94a82005-f2c7-4ad2-d295-077fbce58b26"
      },
      "source": [
        "a.strip()"
      ],
      "execution_count": 14,
      "outputs": [
        {
          "output_type": "execute_result",
          "data": {
            "application/vnd.google.colaboratory.intrinsic+json": {
              "type": "string"
            },
            "text/plain": [
              "'01-sample.png'"
            ]
          },
          "metadata": {
            "tags": []
          },
          "execution_count": 14
        }
      ]
    }
  ]
}