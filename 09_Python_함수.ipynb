{
  "nbformat": 4,
  "nbformat_minor": 0,
  "metadata": {
    "colab": {
      "name": "09-Python-함수.ipynb",
      "provenance": [],
      "authorship_tag": "ABX9TyNNYPh1DcZ2A5AUiYSEOTMz",
      "include_colab_link": true
    },
    "kernelspec": {
      "name": "python3",
      "display_name": "Python 3"
    },
    "language_info": {
      "name": "python"
    }
  },
  "cells": [
    {
      "cell_type": "markdown",
      "metadata": {
        "id": "view-in-github",
        "colab_type": "text"
      },
      "source": [
        "<a href=\"https://colab.research.google.com/github/widowon/2021_SummerStudy_Python-DeepLearning/blob/main/09_Python_%ED%95%A8%EC%88%98.ipynb\" target=\"_parent\"><img src=\"https://colab.research.google.com/assets/colab-badge.svg\" alt=\"Open In Colab\"/></a>"
      ]
    },
    {
      "cell_type": "markdown",
      "metadata": {
        "id": "Ad7FH3-pKaBW"
      },
      "source": [
        "#함수\n"
      ]
    },
    {
      "cell_type": "markdown",
      "metadata": {
        "id": "EWG27iGoLs24"
      },
      "source": [
        "- 자주 사용되는 코드 및 반복되는 코드를 모아 하나의 가능으로 만들고 이름을 붙인 것입니다\n",
        "- 즉 함수의 주요기능은 코드의 **재사용성**입니다."
      ]
    },
    {
      "cell_type": "markdown",
      "metadata": {
        "id": "VrYFjuSlMAo3"
      },
      "source": [
        "##함수의 기본 구조"
      ]
    },
    {
      "cell_type": "markdown",
      "metadata": {
        "id": "WewsG2NyMF2h"
      },
      "source": [
        "- def 키워드로 시작함\n",
        "- 함수명 기입\n",
        "- () 안에 매개 변수 저장 및 생략도 가능\n",
        "- 끝에는 :로 끝납니다\n",
        "- 들여쓰기를 사용한다 "
      ]
    },
    {
      "cell_type": "markdown",
      "metadata": {
        "id": "-K2d-1KiMluo"
      },
      "source": [
        "예시"
      ]
    },
    {
      "cell_type": "code",
      "metadata": {
        "id": "Mr-3FEk3MX05"
      },
      "source": [
        "def add_function(a,b):\n",
        "  result = a+b\n",
        "  return result"
      ],
      "execution_count": 1,
      "outputs": []
    },
    {
      "cell_type": "markdown",
      "metadata": {
        "id": "cVbeLJ2vM5b2"
      },
      "source": [
        "##함수의 다양한 형태"
      ]
    },
    {
      "cell_type": "markdown",
      "metadata": {
        "id": "zmG1KmjqNATo"
      },
      "source": [
        "###일반 형태"
      ]
    },
    {
      "cell_type": "markdown",
      "metadata": {
        "id": "pDtkaisFNCe4"
      },
      "source": [
        "- 입력 매개변수 : 0\n",
        "- return: 0"
      ]
    },
    {
      "cell_type": "code",
      "metadata": {
        "id": "x2zIVcpDNKde"
      },
      "source": [
        "def sample_function(a,b):\n",
        "  result = a+b\n",
        "  return result"
      ],
      "execution_count": 2,
      "outputs": []
    },
    {
      "cell_type": "markdown",
      "metadata": {
        "id": "zFIGqM6qNa39"
      },
      "source": [
        "###입력 매개변수가 없는 형태"
      ]
    },
    {
      "cell_type": "code",
      "metadata": {
        "id": "U5EWk_C-Ndto"
      },
      "source": [
        "def sample_function(a,b):\n",
        "  a=1\n",
        "  b=2\n",
        "  result = a+b\n",
        "  return result"
      ],
      "execution_count": 3,
      "outputs": []
    },
    {
      "cell_type": "markdown",
      "metadata": {
        "id": "eRGmu17hNmlv"
      },
      "source": [
        "###return 이 없는 형태"
      ]
    },
    {
      "cell_type": "code",
      "metadata": {
        "id": "h4AR-S3YNpUp"
      },
      "source": [
        "def sample_function(a,b):\n",
        "  result = a+b\n",
        "  print(f'result: {result}')"
      ],
      "execution_count": 4,
      "outputs": []
    },
    {
      "cell_type": "markdown",
      "metadata": {
        "id": "kqHCvO_3NyUX"
      },
      "source": [
        "###입력 매개변수, return 모두 없는 형태"
      ]
    },
    {
      "cell_type": "code",
      "metadata": {
        "id": "eL9vF9YdN5K3"
      },
      "source": [
        "def sample_function():\n",
        "  print('Hello, World!')"
      ],
      "execution_count": 5,
      "outputs": []
    },
    {
      "cell_type": "markdown",
      "metadata": {
        "id": "mZhcGRrtOB4v"
      },
      "source": [
        "##함수의 이름 및 호출"
      ]
    },
    {
      "cell_type": "markdown",
      "metadata": {
        "id": "FeeapFAcOQ0Y"
      },
      "source": [
        "- 함수의 이름은 알파벳이나 _로 시작합니다\n",
        "- 함수의 지정된 이름과 ()로 호출 한다"
      ]
    },
    {
      "cell_type": "code",
      "metadata": {
        "id": "EsAmR2WvOUiY"
      },
      "source": [
        "def sample_function():\n",
        "  print('함수가 호출 되었습니다')"
      ],
      "execution_count": 8,
      "outputs": []
    },
    {
      "cell_type": "markdown",
      "metadata": {
        "id": "3NK2-t3sOc9A"
      },
      "source": [
        "함수만 호출 시"
      ]
    },
    {
      "cell_type": "code",
      "metadata": {
        "colab": {
          "base_uri": "https://localhost:8080/"
        },
        "id": "QCMTl9ZfOqL6",
        "outputId": "200a3eed-1aa9-4b1c-f5dd-79fd3aead8c1"
      },
      "source": [
        "sample_function"
      ],
      "execution_count": 9,
      "outputs": [
        {
          "output_type": "execute_result",
          "data": {
            "text/plain": [
              "<function __main__.sample_function>"
            ]
          },
          "metadata": {
            "tags": []
          },
          "execution_count": 9
        }
      ]
    },
    {
      "cell_type": "markdown",
      "metadata": {
        "id": "YGj277uPOtQf"
      },
      "source": [
        "###호출"
      ]
    },
    {
      "cell_type": "code",
      "metadata": {
        "colab": {
          "base_uri": "https://localhost:8080/"
        },
        "id": "FamH1GA9OypO",
        "outputId": "0560fd99-b108-4bd7-e9d4-177dbf2815c6"
      },
      "source": [
        "sample_function()"
      ],
      "execution_count": 10,
      "outputs": [
        {
          "output_type": "stream",
          "text": [
            "함수가 호출 되었습니다\n"
          ],
          "name": "stdout"
        }
      ]
    },
    {
      "cell_type": "code",
      "metadata": {
        "colab": {
          "base_uri": "https://localhost:8080/"
        },
        "id": "iFFyNv2gO1h3",
        "outputId": "492a1694-7daa-4637-fef6-8e2db99b5475"
      },
      "source": [
        "a = sample_function\n",
        "a()"
      ],
      "execution_count": 11,
      "outputs": [
        {
          "output_type": "stream",
          "text": [
            "함수가 호출 되었습니다\n"
          ],
          "name": "stdout"
        }
      ]
    },
    {
      "cell_type": "code",
      "metadata": {
        "id": "kxZ7xUixO6mX"
      },
      "source": [
        "def sample_function():\n",
        "  print('호출 함')\n",
        "  return 123"
      ],
      "execution_count": 13,
      "outputs": []
    },
    {
      "cell_type": "code",
      "metadata": {
        "colab": {
          "base_uri": "https://localhost:8080/"
        },
        "id": "kx57rhKqPCTn",
        "outputId": "d3808b3f-e3c7-4587-8ff0-12654ee459da"
      },
      "source": [
        "result = sample_function()"
      ],
      "execution_count": 14,
      "outputs": [
        {
          "output_type": "stream",
          "text": [
            "호출 함\n"
          ],
          "name": "stdout"
        }
      ]
    },
    {
      "cell_type": "code",
      "metadata": {
        "id": "lfKf-9QmPMkO"
      },
      "source": [
        "result"
      ],
      "execution_count": 22,
      "outputs": []
    },
    {
      "cell_type": "markdown",
      "metadata": {
        "id": "XjguSk4FP0cd"
      },
      "source": [
        "아무런 결과 값을 반환하지 않으면 None을 반환한다."
      ]
    },
    {
      "cell_type": "code",
      "metadata": {
        "id": "t26NaELRPoq-"
      },
      "source": [
        "def sample_function():\n",
        "  print('호출 함')"
      ],
      "execution_count": 17,
      "outputs": []
    },
    {
      "cell_type": "code",
      "metadata": {
        "colab": {
          "base_uri": "https://localhost:8080/"
        },
        "id": "YhvSLfttPsCu",
        "outputId": "d828da3b-e0e7-4e63-d4b4-524c3b2f4d99"
      },
      "source": [
        "result = sample_function()"
      ],
      "execution_count": 18,
      "outputs": [
        {
          "output_type": "stream",
          "text": [
            "호출 함\n"
          ],
          "name": "stdout"
        }
      ]
    },
    {
      "cell_type": "code",
      "metadata": {
        "colab": {
          "base_uri": "https://localhost:8080/"
        },
        "id": "72SYfCWZPtYu",
        "outputId": "8c90e3fd-2117-4e69-f119-764902bb6b76"
      },
      "source": [
        "print(result)"
      ],
      "execution_count": 23,
      "outputs": [
        {
          "output_type": "stream",
          "text": [
            "None\n"
          ],
          "name": "stdout"
        }
      ]
    },
    {
      "cell_type": "markdown",
      "metadata": {
        "id": "txnZNaV2P_MW"
      },
      "source": [
        "##docstring"
      ]
    },
    {
      "cell_type": "markdown",
      "metadata": {
        "id": "_zBl7NJjQFVG"
      },
      "source": [
        "- 함수의 대한 설명 기록"
      ]
    },
    {
      "cell_type": "code",
      "metadata": {
        "colab": {
          "base_uri": "https://localhost:8080/",
          "height": 52
        },
        "id": "wZhzZK0eQH9A",
        "outputId": "4f53e6e7-37e9-4aaf-c085-f5f9142d039b"
      },
      "source": [
        "print('hi')\n",
        "\"\"\"\n",
        "print안에 있는 hi를 출력합니다\n",
        "\"\"\""
      ],
      "execution_count": 32,
      "outputs": [
        {
          "output_type": "stream",
          "text": [
            "hi\n"
          ],
          "name": "stdout"
        },
        {
          "output_type": "execute_result",
          "data": {
            "application/vnd.google.colaboratory.intrinsic+json": {
              "type": "string"
            },
            "text/plain": [
              "'\\nprint안에 있는 hi를 출력합니다\\n'"
            ]
          },
          "metadata": {
            "tags": []
          },
          "execution_count": 32
        }
      ]
    },
    {
      "cell_type": "markdown",
      "metadata": {
        "id": "01HQtWlYQzTl"
      },
      "source": [
        "함수명 .`__`doc`__`로  docstring을 출력할 수 있다"
      ]
    },
    {
      "cell_type": "markdown",
      "metadata": {
        "id": "TS_XVfimRMy3"
      },
      "source": [
        "##함수의 인수"
      ]
    },
    {
      "cell_type": "markdown",
      "metadata": {
        "id": "LwiRfyQxRPdt"
      },
      "source": [
        "- 인수 : 값, 변수. 참조 등 전달되는 값\n",
        "- 매개변수: 전달된 값을 받는 변수\n",
        "\n"
      ]
    },
    {
      "cell_type": "markdown",
      "metadata": {
        "id": "O4M6nz8rR2yt"
      },
      "source": [
        "- 10, 20은 인수(argument) \n",
        "- a, b 는 매개변수(parametar)"
      ]
    },
    {
      "cell_type": "code",
      "metadata": {
        "colab": {
          "base_uri": "https://localhost:8080/"
        },
        "id": "FZwcguqvRU03",
        "outputId": "eec20e26-6bb8-4253-8c25-1efa8657a56f"
      },
      "source": [
        "def some_function(a,b):\n",
        "  result = a+b\n",
        "  return result\n",
        "\n",
        "some_function(10,20)"
      ],
      "execution_count": 36,
      "outputs": [
        {
          "output_type": "execute_result",
          "data": {
            "text/plain": [
              "30"
            ]
          },
          "metadata": {
            "tags": []
          },
          "execution_count": 36
        }
      ]
    },
    {
      "cell_type": "markdown",
      "metadata": {
        "id": "sjmprFCqSG5l"
      },
      "source": [
        "##위치인수"
      ]
    },
    {
      "cell_type": "markdown",
      "metadata": {
        "id": "-VgEoMAKSOzk"
      },
      "source": [
        "- 가장 보편적인 변수"
      ]
    },
    {
      "cell_type": "code",
      "metadata": {
        "id": "UipZVLJlSUAN"
      },
      "source": [
        "def add_function(a,b,c):\n",
        "  result = a+ b + c\n",
        "  print(f'a: {a}, b: {b}, c : {c}')\n",
        "  print(f'sum: {result}')\n",
        "  return result"
      ],
      "execution_count": 37,
      "outputs": []
    },
    {
      "cell_type": "code",
      "metadata": {
        "colab": {
          "base_uri": "https://localhost:8080/"
        },
        "id": "V0BuO0jhSrZs",
        "outputId": "6f99efa9-f0f7-488a-f331-9b8c18cd0ae6"
      },
      "source": [
        "add_function(1,3,5)"
      ],
      "execution_count": 39,
      "outputs": [
        {
          "output_type": "stream",
          "text": [
            "a: 1, b: 3, c : 5\n",
            "sum: 9\n"
          ],
          "name": "stdout"
        },
        {
          "output_type": "execute_result",
          "data": {
            "text/plain": [
              "9"
            ]
          },
          "metadata": {
            "tags": []
          },
          "execution_count": 39
        }
      ]
    },
    {
      "cell_type": "markdown",
      "metadata": {
        "id": "DaNL8qiCSwdU"
      },
      "source": [
        "##키워드 인수"
      ]
    },
    {
      "cell_type": "markdown",
      "metadata": {
        "id": "tXlv5tqBSzRX"
      },
      "source": [
        "-위치 인수의 위치를 기억하지 못하고 혼란을 야기 할 수 있기에 인수명에 값을 지정한다"
      ]
    },
    {
      "cell_type": "code",
      "metadata": {
        "colab": {
          "base_uri": "https://localhost:8080/"
        },
        "id": "ZuiQ7_jDS7l-",
        "outputId": "239b5545-5a44-48f8-c8e3-3090fc68f747"
      },
      "source": [
        "add_function(b=3, c=1 , a=5)"
      ],
      "execution_count": 40,
      "outputs": [
        {
          "output_type": "stream",
          "text": [
            "a: 5, b: 3, c : 1\n",
            "sum: 9\n"
          ],
          "name": "stdout"
        },
        {
          "output_type": "execute_result",
          "data": {
            "text/plain": [
              "9"
            ]
          },
          "metadata": {
            "tags": []
          },
          "execution_count": 40
        }
      ]
    },
    {
      "cell_type": "markdown",
      "metadata": {
        "id": "_Px1xVWiTHb1"
      },
      "source": [
        "##기본 매개변수"
      ]
    },
    {
      "cell_type": "markdown",
      "metadata": {
        "id": "AkVbgZ4nTRzk"
      },
      "source": [
        "- 미리 값지정 가능"
      ]
    },
    {
      "cell_type": "code",
      "metadata": {
        "id": "erMmC3gTTUH8"
      },
      "source": [
        "def add_function(a,b=0,c=0):\n",
        "  result = a+ b + c\n",
        "  print(f'a: {a}, b: {b}, c : {c}')\n",
        "  print(f'sum: {result}')\n",
        "  return result"
      ],
      "execution_count": 41,
      "outputs": []
    },
    {
      "cell_type": "code",
      "metadata": {
        "colab": {
          "base_uri": "https://localhost:8080/"
        },
        "id": "nOEVsI9BTaDd",
        "outputId": "10883cc9-2c3e-475c-b80c-45a335ba03ad"
      },
      "source": [
        "add_function(0)"
      ],
      "execution_count": 42,
      "outputs": [
        {
          "output_type": "stream",
          "text": [
            "a: 0, b: 0, c : 0\n",
            "sum: 0\n"
          ],
          "name": "stdout"
        },
        {
          "output_type": "execute_result",
          "data": {
            "text/plain": [
              "0"
            ]
          },
          "metadata": {
            "tags": []
          },
          "execution_count": 42
        }
      ]
    },
    {
      "cell_type": "code",
      "metadata": {
        "colab": {
          "base_uri": "https://localhost:8080/"
        },
        "id": "ura6tRIrTcoV",
        "outputId": "92f5097f-1a7f-4f20-ea20-e03fe1f274b2"
      },
      "source": [
        "add_function(1,3)"
      ],
      "execution_count": 43,
      "outputs": [
        {
          "output_type": "stream",
          "text": [
            "a: 1, b: 3, c : 0\n",
            "sum: 4\n"
          ],
          "name": "stdout"
        },
        {
          "output_type": "execute_result",
          "data": {
            "text/plain": [
              "4"
            ]
          },
          "metadata": {
            "tags": []
          },
          "execution_count": 43
        }
      ]
    },
    {
      "cell_type": "code",
      "metadata": {
        "colab": {
          "base_uri": "https://localhost:8080/"
        },
        "id": "B1Hel1FwTfZs",
        "outputId": "76b45ab4-ff80-4da0-fa3f-b5d19b1ee82a"
      },
      "source": [
        "add_function(1,3,5)"
      ],
      "execution_count": 45,
      "outputs": [
        {
          "output_type": "stream",
          "text": [
            "a: 1, b: 3, c : 5\n",
            "sum: 9\n"
          ],
          "name": "stdout"
        },
        {
          "output_type": "execute_result",
          "data": {
            "text/plain": [
              "9"
            ]
          },
          "metadata": {
            "tags": []
          },
          "execution_count": 45
        }
      ]
    },
    {
      "cell_type": "markdown",
      "metadata": {
        "id": "0iVRw8WQUnYE"
      },
      "source": [
        "## *tuple "
      ]
    },
    {
      "cell_type": "markdown",
      "metadata": {
        "id": "q0e_B4DlUrd8"
      },
      "source": [
        "- 여러개의 인수를 전달 받을 수 있음\n",
        "- 여러개ㅡ이 인수를 전달 받은 *args가 tuple 형태로 저장함"
      ]
    },
    {
      "cell_type": "code",
      "metadata": {
        "id": "VfKxw632U3DV"
      },
      "source": [
        "def add_function(*args):\n",
        "  result = 0\n",
        "  print(f'args의 타입 : {type(args)}')\n",
        "  for arg in args:\n",
        "    print(arg)\n",
        "    result += arg\n",
        "  print('==='* 5)\n",
        "  print(f'sum: {result}')"
      ],
      "execution_count": 47,
      "outputs": []
    },
    {
      "cell_type": "code",
      "metadata": {
        "colab": {
          "base_uri": "https://localhost:8080/"
        },
        "id": "3vOFVa0oVgqk",
        "outputId": "bc1f6964-babb-4cc6-d792-6d0fadde1a82"
      },
      "source": [
        "add_function()"
      ],
      "execution_count": 49,
      "outputs": [
        {
          "output_type": "stream",
          "text": [
            "args의 타입 : <class 'tuple'>\n",
            "===============\n",
            "sum: 0\n"
          ],
          "name": "stdout"
        }
      ]
    },
    {
      "cell_type": "code",
      "metadata": {
        "colab": {
          "base_uri": "https://localhost:8080/"
        },
        "id": "lLNRE0gOVlGU",
        "outputId": "563c7346-0e74-4c4a-91d9-d45370f47149"
      },
      "source": [
        "add_function(1)"
      ],
      "execution_count": 50,
      "outputs": [
        {
          "output_type": "stream",
          "text": [
            "args의 타입 : <class 'tuple'>\n",
            "1\n",
            "===============\n",
            "sum: 1\n"
          ],
          "name": "stdout"
        }
      ]
    },
    {
      "cell_type": "code",
      "metadata": {
        "colab": {
          "base_uri": "https://localhost:8080/"
        },
        "id": "Cu1mOucjVrIE",
        "outputId": "d096630b-abee-4cec-dc22-9748d8525d2f"
      },
      "source": [
        "add_function(1,2,3)"
      ],
      "execution_count": 51,
      "outputs": [
        {
          "output_type": "stream",
          "text": [
            "args의 타입 : <class 'tuple'>\n",
            "1\n",
            "2\n",
            "3\n",
            "===============\n",
            "sum: 6\n"
          ],
          "name": "stdout"
        }
      ]
    },
    {
      "cell_type": "markdown",
      "metadata": {
        "id": "tcOS5Hx6Vt3r"
      },
      "source": [
        "## 위치 매개 변수와 *tuple 의 위치관계"
      ]
    },
    {
      "cell_type": "code",
      "metadata": {
        "id": "yMtdt6BkWHBE"
      },
      "source": [
        "def add_function(a, *args):\n",
        "  print(f'a:{a}')\n",
        "  print('===' *5)\n",
        "  result = 0\n",
        "  for arg in args:\n",
        "    print(arg)\n",
        "    result += arg\n",
        "  print('==='* 5)\n",
        "  print(f'sum: {result}')"
      ],
      "execution_count": 53,
      "outputs": []
    },
    {
      "cell_type": "code",
      "metadata": {
        "colab": {
          "base_uri": "https://localhost:8080/"
        },
        "id": "bLP02POIWehz",
        "outputId": "b81638b4-6a8c-48e2-faab-9b81d2ba6235"
      },
      "source": [
        "add_function(1)"
      ],
      "execution_count": 55,
      "outputs": [
        {
          "output_type": "stream",
          "text": [
            "a:1\n",
            "===============\n",
            "===============\n",
            "sum: 0\n"
          ],
          "name": "stdout"
        }
      ]
    },
    {
      "cell_type": "code",
      "metadata": {
        "colab": {
          "base_uri": "https://localhost:8080/"
        },
        "id": "eeCM7UCzWjRT",
        "outputId": "d3a40ace-2c55-4d00-b570-27f840458259"
      },
      "source": [
        "add_function(1,2,3,4,5)"
      ],
      "execution_count": 56,
      "outputs": [
        {
          "output_type": "stream",
          "text": [
            "a:1\n",
            "===============\n",
            "2\n",
            "3\n",
            "4\n",
            "5\n",
            "===============\n",
            "sum: 14\n"
          ],
          "name": "stdout"
        }
      ]
    },
    {
      "cell_type": "markdown",
      "metadata": {
        "id": "6zxpo8ojWm0b"
      },
      "source": [
        "##**dict"
      ]
    },
    {
      "cell_type": "markdown",
      "metadata": {
        "id": "ciLn_tHNW7GK"
      },
      "source": [
        "- **kwargs로 표현"
      ]
    },
    {
      "cell_type": "code",
      "metadata": {
        "id": "qbX2meM3Xc_N"
      },
      "source": [
        "def add_function(**kwargs):\n",
        "  total_age = 0 \n",
        "  for name, age in kwargs.items():\n",
        "    print(f'이름:{name}, 나이: {age}')\n",
        "    total_age += age\n",
        "  print('==='* 5)\n",
        "  print(f'전체 나이의 합계: {total_age}')"
      ],
      "execution_count": 66,
      "outputs": []
    },
    {
      "cell_type": "code",
      "metadata": {
        "colab": {
          "base_uri": "https://localhost:8080/"
        },
        "id": "ohjHgzk8YTlq",
        "outputId": "e6de6633-d046-40c5-9f3c-97fcf1af9fd7"
      },
      "source": [
        "add_function()"
      ],
      "execution_count": 67,
      "outputs": [
        {
          "output_type": "stream",
          "text": [
            "===============\n",
            "전체 나이의 합계: 0\n"
          ],
          "name": "stdout"
        }
      ]
    },
    {
      "cell_type": "code",
      "metadata": {
        "colab": {
          "base_uri": "https://localhost:8080/"
        },
        "id": "KsYQlio-YVe6",
        "outputId": "012ce53e-8344-414a-d2c6-907861f4c355"
      },
      "source": [
        "add_function(lee=5)"
      ],
      "execution_count": 68,
      "outputs": [
        {
          "output_type": "stream",
          "text": [
            "이름:lee, 나이: 5\n",
            "===============\n",
            "전체 나이의 합계: 5\n"
          ],
          "name": "stdout"
        }
      ]
    },
    {
      "cell_type": "markdown",
      "metadata": {
        "id": "r0Y0qUzKYzUi"
      },
      "source": [
        "###딕셔너리를 인수로 지정"
      ]
    },
    {
      "cell_type": "code",
      "metadata": {
        "colab": {
          "base_uri": "https://localhost:8080/"
        },
        "id": "NDJQihLIZAw6",
        "outputId": "6f3bc5ca-1daa-48db-d34c-5eecd99d1081"
      },
      "source": [
        "person = {'john': 10, 'peter': 12, 'lee': 5}\n",
        "person"
      ],
      "execution_count": 69,
      "outputs": [
        {
          "output_type": "execute_result",
          "data": {
            "text/plain": [
              "{'john': 10, 'lee': 5, 'peter': 12}"
            ]
          },
          "metadata": {
            "tags": []
          },
          "execution_count": 69
        }
      ]
    },
    {
      "cell_type": "code",
      "metadata": {
        "colab": {
          "base_uri": "https://localhost:8080/"
        },
        "id": "oK0g4nNdZNSy",
        "outputId": "1e24b448-0bcb-4e24-96a7-655d67181307"
      },
      "source": [
        "add_function(**person)"
      ],
      "execution_count": 70,
      "outputs": [
        {
          "output_type": "stream",
          "text": [
            "이름:john, 나이: 10\n",
            "이름:peter, 나이: 12\n",
            "이름:lee, 나이: 5\n",
            "===============\n",
            "전체 나이의 합계: 27\n"
          ],
          "name": "stdout"
        }
      ]
    },
    {
      "cell_type": "markdown",
      "metadata": {
        "id": "RccJ5gEpZP06"
      },
      "source": [
        "##lambda 익명함수"
      ]
    },
    {
      "cell_type": "code",
      "metadata": {
        "id": "hoHhEnonZZF0"
      },
      "source": [
        "a = lambda x: x*2"
      ],
      "execution_count": 71,
      "outputs": []
    },
    {
      "cell_type": "code",
      "metadata": {
        "colab": {
          "base_uri": "https://localhost:8080/"
        },
        "id": "KGgRXO9kZjPC",
        "outputId": "395d5bef-a612-43a6-8c41-4fcd471f0246"
      },
      "source": [
        "a(4)"
      ],
      "execution_count": 72,
      "outputs": [
        {
          "output_type": "execute_result",
          "data": {
            "text/plain": [
              "8"
            ]
          },
          "metadata": {
            "tags": []
          },
          "execution_count": 72
        }
      ]
    },
    {
      "cell_type": "code",
      "metadata": {
        "id": "umW90Kr3ZkFS"
      },
      "source": [
        "a= lambda x,y=10:x*y"
      ],
      "execution_count": 74,
      "outputs": []
    },
    {
      "cell_type": "code",
      "metadata": {
        "colab": {
          "base_uri": "https://localhost:8080/"
        },
        "id": "WmhgWOifZzfy",
        "outputId": "c5a3627d-af94-4744-e3c8-b54c5e769e77"
      },
      "source": [
        "a(3)"
      ],
      "execution_count": 76,
      "outputs": [
        {
          "output_type": "execute_result",
          "data": {
            "text/plain": [
              "30"
            ]
          },
          "metadata": {
            "tags": []
          },
          "execution_count": 76
        }
      ]
    },
    {
      "cell_type": "code",
      "metadata": {
        "colab": {
          "base_uri": "https://localhost:8080/"
        },
        "id": "7Vae9krTZ7Ch",
        "outputId": "17062b37-2149-4a87-c4a4-1bab65287356"
      },
      "source": [
        "a(x=3, y=5)"
      ],
      "execution_count": 78,
      "outputs": [
        {
          "output_type": "execute_result",
          "data": {
            "text/plain": [
              "15"
            ]
          },
          "metadata": {
            "tags": []
          },
          "execution_count": 78
        }
      ]
    },
    {
      "cell_type": "markdown",
      "metadata": {
        "id": "_pQd8xgBaJKh"
      },
      "source": [
        "lambda함수 안에서 조건문 사용"
      ]
    },
    {
      "cell_type": "code",
      "metadata": {
        "id": "0SSKN48UaMqj"
      },
      "source": [
        "a = lambda x,y:x*y if x>0 else y"
      ],
      "execution_count": 79,
      "outputs": []
    },
    {
      "cell_type": "code",
      "metadata": {
        "colab": {
          "base_uri": "https://localhost:8080/"
        },
        "id": "w63Z-XLdaSPp",
        "outputId": "b26afee1-2f4c-411f-b436-526def5998cb"
      },
      "source": [
        "a(4,8)"
      ],
      "execution_count": 80,
      "outputs": [
        {
          "output_type": "execute_result",
          "data": {
            "text/plain": [
              "32"
            ]
          },
          "metadata": {
            "tags": []
          },
          "execution_count": 80
        }
      ]
    },
    {
      "cell_type": "code",
      "metadata": {
        "id": "6HSkyDs-aT4R"
      },
      "source": [
        ""
      ],
      "execution_count": null,
      "outputs": []
    }
  ]
}