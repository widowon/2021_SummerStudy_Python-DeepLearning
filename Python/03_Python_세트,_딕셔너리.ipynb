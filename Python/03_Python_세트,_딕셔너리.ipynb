{
  "nbformat": 4,
  "nbformat_minor": 0,
  "metadata": {
    "colab": {
      "name": "03-Python-세트, 딕셔너리.ipynb",
      "provenance": [],
      "collapsed_sections": [
        "wXg1Tdge3NcK",
        "NnzwJhKT38v1",
        "x-Rbsn0e4UQn",
        "6SfVZT-_4YvZ",
        "P35HTes6465G",
        "sXabljsU5Q89",
        "nirzrqdM5xwm",
        "coyH-CMq6Do1",
        "DFBd1pN87rDv",
        "kaBbJrqJ8OTL",
        "SaTeuGGc8Z3D",
        "vRzHIYRf8vAQ",
        "Lh6oOZyJ89l0",
        "PyA-meGf9PFl",
        "rteG86nB9X37",
        "-CPsMrBZ-KaD"
      ],
      "authorship_tag": "ABX9TyMamhs5b5T/FrQcPzHgrebo",
      "include_colab_link": true
    },
    "kernelspec": {
      "name": "python3",
      "display_name": "Python 3"
    },
    "language_info": {
      "name": "python"
    }
  },
  "cells": [
    {
      "cell_type": "markdown",
      "metadata": {
        "id": "view-in-github",
        "colab_type": "text"
      },
      "source": [
        "<a href=\"https://colab.research.google.com/github/widowon/2021_SummerStudy_Python-DeepLearning/blob/main/03_Python_%EC%84%B8%ED%8A%B8%2C_%EB%94%95%EC%85%94%EB%84%88%EB%A6%AC.ipynb\" target=\"_parent\"><img src=\"https://colab.research.google.com/assets/colab-badge.svg\" alt=\"Open In Colab\"/></a>"
      ]
    },
    {
      "cell_type": "markdown",
      "metadata": {
        "id": "wXg1Tdge3NcK"
      },
      "source": [
        "#세트 (set)"
      ]
    },
    {
      "cell_type": "markdown",
      "metadata": {
        "id": "ox1KOB253Sym"
      },
      "source": [
        "* 순서 보장 ㄴ\n",
        "* 요소의 중복 ㄴ\n",
        "* {}를 활용하여 생성"
      ]
    },
    {
      "cell_type": "code",
      "metadata": {
        "colab": {
          "base_uri": "https://localhost:8080/"
        },
        "id": "4IfcxSL93eYN",
        "outputId": "09950916-ac07-4ba6-9217-3a3bc94a5a47"
      },
      "source": [
        "myset = ([1,1,1,2,2,3,3,3])\n",
        "myset"
      ],
      "execution_count": null,
      "outputs": [
        {
          "output_type": "execute_result",
          "data": {
            "text/plain": [
              "[1, 1, 1, 2, 2, 3, 3, 3]"
            ]
          },
          "metadata": {
            "tags": []
          },
          "execution_count": 2
        }
      ]
    },
    {
      "cell_type": "code",
      "metadata": {
        "colab": {
          "base_uri": "https://localhost:8080/"
        },
        "id": "ojQWY1Nf3k5k",
        "outputId": "4ba85f0a-fc36-45af-e11c-6f48d9f2d7d0"
      },
      "source": [
        "myset = ((1,1,1,2,2,3,3,3))\n",
        "myset"
      ],
      "execution_count": null,
      "outputs": [
        {
          "output_type": "execute_result",
          "data": {
            "text/plain": [
              "(1, 1, 1, 2, 2, 3, 3, 3)"
            ]
          },
          "metadata": {
            "tags": []
          },
          "execution_count": 4
        }
      ]
    },
    {
      "cell_type": "code",
      "metadata": {
        "colab": {
          "base_uri": "https://localhost:8080/"
        },
        "id": "vLejzMe03uhD",
        "outputId": "e0eb4f33-083c-4e3e-f314-fa04b1b1fa33"
      },
      "source": [
        "myset = {1,1,1,2,2,3,3,3}\n",
        "myset"
      ],
      "execution_count": null,
      "outputs": [
        {
          "output_type": "execute_result",
          "data": {
            "text/plain": [
              "{1, 2, 3}"
            ]
          },
          "metadata": {
            "tags": []
          },
          "execution_count": 5
        }
      ]
    },
    {
      "cell_type": "markdown",
      "metadata": {
        "id": "9c_8nDGD3y64"
      },
      "source": [
        "빈 세트 생성"
      ]
    },
    {
      "cell_type": "code",
      "metadata": {
        "id": "KqgH_Mci31NE"
      },
      "source": [
        "add() 를 하면 의미가 없음"
      ],
      "execution_count": null,
      "outputs": []
    },
    {
      "cell_type": "markdown",
      "metadata": {
        "id": "NnzwJhKT38v1"
      },
      "source": [
        "##update 여러개 값 추가"
      ]
    },
    {
      "cell_type": "code",
      "metadata": {
        "colab": {
          "base_uri": "https://localhost:8080/"
        },
        "id": "jQhXj9Nl3_5V",
        "outputId": "ef3c8980-0277-41a5-e3e0-502058976e13"
      },
      "source": [
        "myset = {1,2,3}\n",
        "myset.update({7,8,9})\n",
        "myset"
      ],
      "execution_count": null,
      "outputs": [
        {
          "output_type": "execute_result",
          "data": {
            "text/plain": [
              "{1, 2, 3, 7, 8, 9}"
            ]
          },
          "metadata": {
            "tags": []
          },
          "execution_count": 8
        }
      ]
    },
    {
      "cell_type": "markdown",
      "metadata": {
        "id": "OxbcrR0_4Qwg"
      },
      "source": [
        "리스트, 튜플 , 세트 모두 가능"
      ]
    },
    {
      "cell_type": "markdown",
      "metadata": {
        "id": "x-Rbsn0e4UQn"
      },
      "source": [
        "##remove() 값제거 가능"
      ]
    },
    {
      "cell_type": "markdown",
      "metadata": {
        "id": "6SfVZT-_4YvZ"
      },
      "source": [
        "##교집합 (intersection)"
      ]
    },
    {
      "cell_type": "markdown",
      "metadata": {
        "id": "Ym8iPLOc4g1S"
      },
      "source": [
        "* &과 intersection()  으로 사용"
      ]
    },
    {
      "cell_type": "code",
      "metadata": {
        "colab": {
          "base_uri": "https://localhost:8080/"
        },
        "id": "ukXhzdOm4uwe",
        "outputId": "16509399-1feb-48cd-fea3-492fda089fb1"
      },
      "source": [
        "a ={1,2,3,4,5}\n",
        "b = {3,4,5,6,7,8}\n",
        "a&b"
      ],
      "execution_count": null,
      "outputs": [
        {
          "output_type": "execute_result",
          "data": {
            "text/plain": [
              "{3, 4, 5}"
            ]
          },
          "metadata": {
            "tags": []
          },
          "execution_count": 10
        }
      ]
    },
    {
      "cell_type": "code",
      "metadata": {
        "colab": {
          "base_uri": "https://localhost:8080/"
        },
        "id": "ncGMQy-v436r",
        "outputId": "9ad968b6-ad20-4ff6-8653-4f2e97a88ccb"
      },
      "source": [
        "a.intersection(b)"
      ],
      "execution_count": null,
      "outputs": [
        {
          "output_type": "execute_result",
          "data": {
            "text/plain": [
              "{3, 4, 5}"
            ]
          },
          "metadata": {
            "tags": []
          },
          "execution_count": 11
        }
      ]
    },
    {
      "cell_type": "markdown",
      "metadata": {
        "id": "P35HTes6465G"
      },
      "source": [
        "##합집합 (union)"
      ]
    },
    {
      "cell_type": "markdown",
      "metadata": {
        "id": "LLFBPrvG4-W-"
      },
      "source": [
        "* 모두 가져오나 겹치는 건 1개로 취급\n",
        "* |와 union으로 사용"
      ]
    },
    {
      "cell_type": "code",
      "metadata": {
        "id": "t5y_pz__5GuE"
      },
      "source": [
        "a ={1,2,3,4,5}\n",
        "b = {3,4,5,6,7,8}"
      ],
      "execution_count": null,
      "outputs": []
    },
    {
      "cell_type": "code",
      "metadata": {
        "colab": {
          "base_uri": "https://localhost:8080/"
        },
        "id": "JHwc6XuD5JBc",
        "outputId": "e473d4dd-62a9-4405-ccff-ab0df648db8f"
      },
      "source": [
        "a|b"
      ],
      "execution_count": null,
      "outputs": [
        {
          "output_type": "execute_result",
          "data": {
            "text/plain": [
              "{1, 2, 3, 4, 5, 6, 7, 8}"
            ]
          },
          "metadata": {
            "tags": []
          },
          "execution_count": 13
        }
      ]
    },
    {
      "cell_type": "code",
      "metadata": {
        "colab": {
          "base_uri": "https://localhost:8080/"
        },
        "id": "PIJUYgU55Lmf",
        "outputId": "b3308dfc-13cf-4826-9c60-7753d92bbe3f"
      },
      "source": [
        "a.union(b)"
      ],
      "execution_count": null,
      "outputs": [
        {
          "output_type": "execute_result",
          "data": {
            "text/plain": [
              "{1, 2, 3, 4, 5, 6, 7, 8}"
            ]
          },
          "metadata": {
            "tags": []
          },
          "execution_count": 14
        }
      ]
    },
    {
      "cell_type": "markdown",
      "metadata": {
        "id": "sXabljsU5Q89"
      },
      "source": [
        "##차집합 (difference)"
      ]
    },
    {
      "cell_type": "markdown",
      "metadata": {
        "id": "zSTjU6EO5Vxe"
      },
      "source": [
        "* 공통된것은 날아감\n",
        "* -와 difference() 로 사용함"
      ]
    },
    {
      "cell_type": "code",
      "metadata": {
        "id": "cJJAxGG95lpX"
      },
      "source": [
        "a ={1,2,3,4,5}\n",
        "b = {3,4,5,6,7,8}"
      ],
      "execution_count": null,
      "outputs": []
    },
    {
      "cell_type": "code",
      "metadata": {
        "colab": {
          "base_uri": "https://localhost:8080/"
        },
        "id": "yDIa3OnZ5nwW",
        "outputId": "2a51a88c-fb07-4ad7-9dcd-c59835223ff0"
      },
      "source": [
        "a-b"
      ],
      "execution_count": null,
      "outputs": [
        {
          "output_type": "execute_result",
          "data": {
            "text/plain": [
              "{1, 2}"
            ]
          },
          "metadata": {
            "tags": []
          },
          "execution_count": 16
        }
      ]
    },
    {
      "cell_type": "code",
      "metadata": {
        "colab": {
          "base_uri": "https://localhost:8080/"
        },
        "id": "8Xz378DZ5pA9",
        "outputId": "cdf05f81-fac3-45fd-fc7e-0686db37eebf"
      },
      "source": [
        "a.difference(b)"
      ],
      "execution_count": null,
      "outputs": [
        {
          "output_type": "execute_result",
          "data": {
            "text/plain": [
              "{1, 2}"
            ]
          },
          "metadata": {
            "tags": []
          },
          "execution_count": 18
        }
      ]
    },
    {
      "cell_type": "markdown",
      "metadata": {
        "id": "nirzrqdM5xwm"
      },
      "source": [
        "##집합의 타일 변화"
      ]
    },
    {
      "cell_type": "markdown",
      "metadata": {
        "id": "fgj1H_A757qN"
      },
      "source": [
        "list를 set 으로 변환"
      ]
    },
    {
      "cell_type": "markdown",
      "metadata": {
        "id": "coyH-CMq6Do1"
      },
      "source": [
        "#딕셔너리 "
      ]
    },
    {
      "cell_type": "markdown",
      "metadata": {
        "id": "qX7Ou3bv6JCc"
      },
      "source": [
        "* 순서를 가지지 않음\n",
        "* 키와 벨류로 구성\n",
        "* type은 dict\n",
        "* key로 조회 가능\n",
        "* 딕셔너리는 수정, 삭제, 추가가 가능함 "
      ]
    },
    {
      "cell_type": "code",
      "metadata": {
        "colab": {
          "base_uri": "https://localhost:8080/"
        },
        "id": "w1DEAcMS6reZ",
        "outputId": "901bf928-ee67-403b-b6c3-57e22a3de1ca"
      },
      "source": [
        "mydict = dict()\n",
        "print(type(dict))\n",
        "mydict"
      ],
      "execution_count": null,
      "outputs": [
        {
          "output_type": "stream",
          "text": [
            "<class 'type'>\n"
          ],
          "name": "stdout"
        },
        {
          "output_type": "execute_result",
          "data": {
            "text/plain": [
              "{}"
            ]
          },
          "metadata": {
            "tags": []
          },
          "execution_count": 20
        }
      ]
    },
    {
      "cell_type": "code",
      "metadata": {
        "colab": {
          "base_uri": "https://localhost:8080/"
        },
        "id": "14Cs_OAi6z-W",
        "outputId": "83d260b5-2ba9-4c33-bb6e-f7c629e1f1da"
      },
      "source": [
        "mydict = {'a':1, 'b':2, 'c':3}\n",
        "mydict"
      ],
      "execution_count": null,
      "outputs": [
        {
          "output_type": "execute_result",
          "data": {
            "text/plain": [
              "{'a': 1, 'b': 2, 'c': 3}"
            ]
          },
          "metadata": {
            "tags": []
          },
          "execution_count": 21
        }
      ]
    },
    {
      "cell_type": "markdown",
      "metadata": {
        "id": "g447nJA66-43"
      },
      "source": [
        "여러 타입의 키를 가질 수 있다 "
      ]
    },
    {
      "cell_type": "code",
      "metadata": {
        "colab": {
          "base_uri": "https://localhost:8080/"
        },
        "id": "TXB6N4AO7Djt",
        "outputId": "14c02d07-3dc7-4121-91b9-924207a737c3"
      },
      "source": [
        "mydict = {'a':'가', 'b': 2}\n",
        "mydict"
      ],
      "execution_count": null,
      "outputs": [
        {
          "output_type": "execute_result",
          "data": {
            "text/plain": [
              "{'a': '가', 'b': 2}"
            ]
          },
          "metadata": {
            "tags": []
          },
          "execution_count": 22
        }
      ]
    },
    {
      "cell_type": "markdown",
      "metadata": {
        "id": "70Q484yq7OOm"
      },
      "source": [
        "##값 조회 "
      ]
    },
    {
      "cell_type": "code",
      "metadata": {
        "colab": {
          "base_uri": "https://localhost:8080/"
        },
        "id": "r7JFNTsE7RK9",
        "outputId": "ddc84809-fb51-4859-9e1c-c8e7111a685b"
      },
      "source": [
        "mydict = {'a':1, 'b':2, 'c':3}\n",
        "mydict"
      ],
      "execution_count": null,
      "outputs": [
        {
          "output_type": "execute_result",
          "data": {
            "text/plain": [
              "{'a': 1, 'b': 2, 'c': 3}"
            ]
          },
          "metadata": {
            "tags": []
          },
          "execution_count": 23
        }
      ]
    },
    {
      "cell_type": "code",
      "metadata": {
        "colab": {
          "base_uri": "https://localhost:8080/"
        },
        "id": "J5M0yrJ-7U6V",
        "outputId": "02b55d7e-d8c2-4535-8bba-005cf210b6e5"
      },
      "source": [
        "mydict['a']"
      ],
      "execution_count": null,
      "outputs": [
        {
          "output_type": "execute_result",
          "data": {
            "text/plain": [
              "1"
            ]
          },
          "metadata": {
            "tags": []
          },
          "execution_count": 26
        }
      ]
    },
    {
      "cell_type": "markdown",
      "metadata": {
        "id": "ukFNEu3I7s7h"
      },
      "source": [
        "get 매서드로도 조회 가능"
      ]
    },
    {
      "cell_type": "code",
      "metadata": {
        "id": "AVCt0N1u7Y3U",
        "colab": {
          "base_uri": "https://localhost:8080/"
        },
        "outputId": "cf5235d6-4f3d-49e6-fc6f-ecf155d013af"
      },
      "source": [
        "mydict.get('a')"
      ],
      "execution_count": null,
      "outputs": [
        {
          "output_type": "execute_result",
          "data": {
            "text/plain": [
              "1"
            ]
          },
          "metadata": {
            "tags": []
          },
          "execution_count": 27
        }
      ]
    },
    {
      "cell_type": "markdown",
      "metadata": {
        "id": "MQRHUjqI70ba"
      },
      "source": [
        "매서드는 애러가 아닌 None이 나옴 "
      ]
    },
    {
      "cell_type": "markdown",
      "metadata": {
        "id": "DFBd1pN87rDv"
      },
      "source": [
        "##keys() 모든 key 조회"
      ]
    },
    {
      "cell_type": "code",
      "metadata": {
        "colab": {
          "base_uri": "https://localhost:8080/"
        },
        "id": "q5gLubKG8C_X",
        "outputId": "de7af041-8966-4ea0-bbad-a9f766976cc9"
      },
      "source": [
        "mydict = {'a':1, 'b':2, 'c':3}\n",
        "mydict.keys()"
      ],
      "execution_count": null,
      "outputs": [
        {
          "output_type": "execute_result",
          "data": {
            "text/plain": [
              "dict_keys(['a', 'b', 'c'])"
            ]
          },
          "metadata": {
            "tags": []
          },
          "execution_count": 30
        }
      ]
    },
    {
      "cell_type": "markdown",
      "metadata": {
        "id": "kaBbJrqJ8OTL"
      },
      "source": [
        "##values() 모든 value 조회"
      ]
    },
    {
      "cell_type": "code",
      "metadata": {
        "colab": {
          "base_uri": "https://localhost:8080/"
        },
        "id": "4wp7uwDt8VLH",
        "outputId": "a9111b68-6b5f-4c19-f191-62256f9a6258"
      },
      "source": [
        "mydict.values()"
      ],
      "execution_count": null,
      "outputs": [
        {
          "output_type": "execute_result",
          "data": {
            "text/plain": [
              "dict_values([1, 2, 3])"
            ]
          },
          "metadata": {
            "tags": []
          },
          "execution_count": 32
        }
      ]
    },
    {
      "cell_type": "markdown",
      "metadata": {
        "id": "SaTeuGGc8Z3D"
      },
      "source": [
        "##items() 모든 key와 value의 조합 "
      ]
    },
    {
      "cell_type": "code",
      "metadata": {
        "colab": {
          "base_uri": "https://localhost:8080/"
        },
        "id": "F9MbANCs8ha9",
        "outputId": "ccd89294-4bb9-4b61-f7c2-e98552ec1e19"
      },
      "source": [
        "mydict.items()"
      ],
      "execution_count": null,
      "outputs": [
        {
          "output_type": "execute_result",
          "data": {
            "text/plain": [
              "dict_items([('a', 1), ('b', 2), ('c', 3)])"
            ]
          },
          "metadata": {
            "tags": []
          },
          "execution_count": 37
        }
      ]
    },
    {
      "cell_type": "markdown",
      "metadata": {
        "id": "p230aPWN8qyv"
      },
      "source": [
        "list의 담을 수 도 있음"
      ]
    },
    {
      "cell_type": "code",
      "metadata": {
        "colab": {
          "base_uri": "https://localhost:8080/"
        },
        "id": "gr3qzD_L8mMi",
        "outputId": "97986a6f-9d14-4715-8c5f-1b53a84fe907"
      },
      "source": [
        "list(mydict.items())"
      ],
      "execution_count": null,
      "outputs": [
        {
          "output_type": "execute_result",
          "data": {
            "text/plain": [
              "[('a', 1), ('b', 2), ('c', 3)]"
            ]
          },
          "metadata": {
            "tags": []
          },
          "execution_count": 38
        }
      ]
    },
    {
      "cell_type": "markdown",
      "metadata": {
        "id": "vRzHIYRf8vAQ"
      },
      "source": [
        "##key의 값의 존재 유무 "
      ]
    },
    {
      "cell_type": "code",
      "metadata": {
        "colab": {
          "base_uri": "https://localhost:8080/"
        },
        "id": "og4oc2TO80x2",
        "outputId": "987d4f79-252a-40dc-a9a0-d10ac36d6961"
      },
      "source": [
        "'a' in mydict"
      ],
      "execution_count": null,
      "outputs": [
        {
          "output_type": "execute_result",
          "data": {
            "text/plain": [
              "True"
            ]
          },
          "metadata": {
            "tags": []
          },
          "execution_count": 40
        }
      ]
    },
    {
      "cell_type": "code",
      "metadata": {
        "colab": {
          "base_uri": "https://localhost:8080/"
        },
        "id": "1QlgpcG_86I8",
        "outputId": "2f9518dd-d10c-49e1-d15f-cf543828f53c"
      },
      "source": [
        "'f' in mydict"
      ],
      "execution_count": null,
      "outputs": [
        {
          "output_type": "execute_result",
          "data": {
            "text/plain": [
              "False"
            ]
          },
          "metadata": {
            "tags": []
          },
          "execution_count": 42
        }
      ]
    },
    {
      "cell_type": "markdown",
      "metadata": {
        "id": "Lh6oOZyJ89l0"
      },
      "source": [
        "## 값 추가하기"
      ]
    },
    {
      "cell_type": "markdown",
      "metadata": {
        "id": "_uH83N1c8_r0"
      },
      "source": [
        "* 새로운 key에 값을 추가 "
      ]
    },
    {
      "cell_type": "code",
      "metadata": {
        "colab": {
          "base_uri": "https://localhost:8080/"
        },
        "id": "9A7SZrwK9HZu",
        "outputId": "1d40bf11-1d6f-4bb7-ddd1-f24a78eac8f5"
      },
      "source": [
        "mydict[0] = 2\n",
        "mydict[0]"
      ],
      "execution_count": null,
      "outputs": [
        {
          "output_type": "execute_result",
          "data": {
            "text/plain": [
              "2"
            ]
          },
          "metadata": {
            "tags": []
          },
          "execution_count": 46
        }
      ]
    },
    {
      "cell_type": "markdown",
      "metadata": {
        "id": "PyA-meGf9PFl"
      },
      "source": [
        "##update() 다중 "
      ]
    },
    {
      "cell_type": "markdown",
      "metadata": {
        "id": "rteG86nB9X37"
      },
      "source": [
        "##값 변경"
      ]
    },
    {
      "cell_type": "markdown",
      "metadata": {
        "id": "p60bg6ju9j27"
      },
      "source": [
        "* key의 값에 지정된 곳을 변경"
      ]
    },
    {
      "cell_type": "markdown",
      "metadata": {
        "id": "Spl5EXpL9xfN"
      },
      "source": [
        "##값 제거 "
      ]
    },
    {
      "cell_type": "markdown",
      "metadata": {
        "id": "CiIoFup_91TS"
      },
      "source": [
        "* de l 사용"
      ]
    },
    {
      "cell_type": "markdown",
      "metadata": {
        "id": "yUEp0dP895uN"
      },
      "source": [
        "* pop() 사용시 지정한 값을 보여주고 제거"
      ]
    },
    {
      "cell_type": "markdown",
      "metadata": {
        "id": "vBzwfJSt-E2i"
      },
      "source": [
        "##len() 요소의 갯수 반환"
      ]
    },
    {
      "cell_type": "markdown",
      "metadata": {
        "id": "-CPsMrBZ-KaD"
      },
      "source": [
        "##  .clear() 전부 삭제\n"
      ]
    },
    {
      "cell_type": "code",
      "metadata": {
        "colab": {
          "base_uri": "https://localhost:8080/"
        },
        "id": "VSSJb7TK-T9M",
        "outputId": "09d64a83-412f-4e86-e557-02c8a8e84b40"
      },
      "source": [
        "mydict = {'a':1, 'b':2, 'c':3}\n",
        "mydict.clear()\n",
        "mydict"
      ],
      "execution_count": null,
      "outputs": [
        {
          "output_type": "execute_result",
          "data": {
            "text/plain": [
              "{}"
            ]
          },
          "metadata": {
            "tags": []
          },
          "execution_count": 49
        }
      ]
    }
  ]
}
