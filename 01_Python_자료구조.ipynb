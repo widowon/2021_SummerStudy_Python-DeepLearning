{
  "nbformat": 4,
  "nbformat_minor": 0,
  "metadata": {
    "colab": {
      "name": "01-Python 자료구조.ipynb",
      "provenance": [],
      "authorship_tag": "ABX9TyMyDgoGp4TQ2c9quOR9Idka",
      "include_colab_link": true
    },
    "kernelspec": {
      "name": "python3",
      "display_name": "Python 3"
    },
    "language_info": {
      "name": "python"
    }
  },
  "cells": [
    {
      "cell_type": "markdown",
      "metadata": {
        "id": "view-in-github",
        "colab_type": "text"
      },
      "source": [
        "<a href=\"https://colab.research.google.com/github/widowon/2021_SummerStudy_Python-DeepLearning/blob/main/01_Python_%EC%9E%90%EB%A3%8C%EA%B5%AC%EC%A1%B0.ipynb\" target=\"_parent\"><img src=\"https://colab.research.google.com/assets/colab-badge.svg\" alt=\"Open In Colab\"/></a>"
      ]
    },
    {
      "cell_type": "code",
      "metadata": {
        "id": "dtcWN7nR6XNP"
      },
      "source": [
        "import this"
      ],
      "execution_count": null,
      "outputs": []
    },
    {
      "cell_type": "markdown",
      "metadata": {
        "id": "s7Dzga_97fdQ"
      },
      "source": [
        "##print (출력)"
      ]
    },
    {
      "cell_type": "code",
      "metadata": {
        "colab": {
          "base_uri": "https://localhost:8080/"
        },
        "id": "sMAvHykV7h19",
        "outputId": "de4814fb-baf6-436d-b4cc-af5436004f6e"
      },
      "source": [
        "print('아따 국밥 말아먹기 좋은 날이네')"
      ],
      "execution_count": null,
      "outputs": [
        {
          "output_type": "stream",
          "text": [
            "아따 국밥 말아먹기 좋은 날이네\n"
          ],
          "name": "stdout"
        }
      ]
    },
    {
      "cell_type": "code",
      "metadata": {
        "colab": {
          "base_uri": "https://localhost:8080/"
        },
        "id": "FVdZEs7F7pvQ",
        "outputId": "a69f282c-a58d-45be-ff67-b315e406c351"
      },
      "source": [
        "print(\"국밥\",\"뜨듯함\")"
      ],
      "execution_count": null,
      "outputs": [
        {
          "output_type": "stream",
          "text": [
            "국밥 뜨듯함\n"
          ],
          "name": "stdout"
        }
      ]
    },
    {
      "cell_type": "code",
      "metadata": {
        "colab": {
          "base_uri": "https://localhost:8080/"
        },
        "id": "epjAZM0T7v8c",
        "outputId": "11d12c88-4f1b-45bd-ec6f-c652597dce19"
      },
      "source": [
        "print(1,0,2,5)"
      ],
      "execution_count": null,
      "outputs": [
        {
          "output_type": "stream",
          "text": [
            "1 0 2 5\n"
          ],
          "name": "stdout"
        }
      ]
    },
    {
      "cell_type": "markdown",
      "metadata": {
        "id": "ikJyek6T8Jcn"
      },
      "source": [
        "#변수 (Variable)\n",
        "###규칙\n"
      ]
    },
    {
      "cell_type": "markdown",
      "metadata": {
        "id": "exYqQSkz8-zL"
      },
      "source": [
        "1. 소문자\n",
        "2. 대문자\n",
        "3. 숫자\n",
        "4. 한글\n",
        "5. 특수기호는 언더바(_)만 사용가능\n"
      ]
    },
    {
      "cell_type": "markdown",
      "metadata": {
        "id": "IHlDHbJY9B1W"
      },
      "source": [
        "###규칙"
      ]
    },
    {
      "cell_type": "markdown",
      "metadata": {
        "id": "94qlTVNG9EcC"
      },
      "source": [
        "1. 대소문자 구분\n",
        "2. 숫자 먼저 올 수 없음\n",
        "3. 예약어 사용 불가능 (del, if, def, import, return 등등)"
      ]
    },
    {
      "cell_type": "markdown",
      "metadata": {
        "id": "-84X_AWq9fwM"
      },
      "source": [
        "1.문자 + 숫자"
      ]
    },
    {
      "cell_type": "code",
      "metadata": {
        "id": "n4O4U6AM9McN"
      },
      "source": [
        "a1=1"
      ],
      "execution_count": null,
      "outputs": []
    },
    {
      "cell_type": "markdown",
      "metadata": {
        "id": "2kIVTXP69jTs"
      },
      "source": [
        "2.문자 + 언더바"
      ]
    },
    {
      "cell_type": "code",
      "metadata": {
        "id": "aXf7SPKJ9T3x"
      },
      "source": [
        "a_=1  "
      ],
      "execution_count": null,
      "outputs": []
    },
    {
      "cell_type": "markdown",
      "metadata": {
        "id": "JUDC9CI09mTX"
      },
      "source": [
        "3.숫자 + 문자 ( 불가능 )"
      ]
    },
    {
      "cell_type": "markdown",
      "metadata": {
        "id": "sN6oLz9xBLEP"
      },
      "source": [
        "1a = 1"
      ]
    },
    {
      "cell_type": "markdown",
      "metadata": {
        "id": "EnnGG15A91kZ"
      },
      "source": [
        "4.특수문자 모두 불가능"
      ]
    },
    {
      "cell_type": "markdown",
      "metadata": {
        "id": "iCQBYQS4BJCS"
      },
      "source": [
        "1a = 1"
      ]
    },
    {
      "cell_type": "markdown",
      "metadata": {
        "id": "Qs_OMDCL9-xy"
      },
      "source": [
        "#데이터 타입 (Data Type)"
      ]
    },
    {
      "cell_type": "markdown",
      "metadata": {
        "id": "hRsLSdxC-GlS"
      },
      "source": [
        "##주요 타입\n",
        "  1. int : 정수\n",
        "  2. float : 실수\n",
        "  3. str : 문자열\n",
        "  4. bool : 참/거짓 (0을 제외한 모든 숫자는 참)"
      ]
    },
    {
      "cell_type": "markdown",
      "metadata": {
        "id": "Zdtqyq56-2lq"
      },
      "source": [
        "#type()"
      ]
    },
    {
      "cell_type": "code",
      "metadata": {
        "colab": {
          "base_uri": "https://localhost:8080/"
        },
        "id": "PNVyJYx__AnF",
        "outputId": "e2aedab2-c3e7-4d4e-ae69-2fec1a6c56fb"
      },
      "source": [
        "type(1)"
      ],
      "execution_count": null,
      "outputs": [
        {
          "output_type": "execute_result",
          "data": {
            "text/plain": [
              "int"
            ]
          },
          "metadata": {
            "tags": []
          },
          "execution_count": 13
        }
      ]
    },
    {
      "cell_type": "code",
      "metadata": {
        "colab": {
          "base_uri": "https://localhost:8080/"
        },
        "id": "lK5KPLiW_C46",
        "outputId": "0bec4f04-885b-4301-ce2b-d48ce261aee0"
      },
      "source": [
        "type(3.14)"
      ],
      "execution_count": null,
      "outputs": [
        {
          "output_type": "execute_result",
          "data": {
            "text/plain": [
              "float"
            ]
          },
          "metadata": {
            "tags": []
          },
          "execution_count": 14
        }
      ]
    },
    {
      "cell_type": "code",
      "metadata": {
        "colab": {
          "base_uri": "https://localhost:8080/"
        },
        "id": "rdryX2aC_GY5",
        "outputId": "695cfa47-a29a-4998-d00a-41f8a44d6177"
      },
      "source": [
        "type(\"안녕\")"
      ],
      "execution_count": null,
      "outputs": [
        {
          "output_type": "execute_result",
          "data": {
            "text/plain": [
              "str"
            ]
          },
          "metadata": {
            "tags": []
          },
          "execution_count": 15
        }
      ]
    },
    {
      "cell_type": "code",
      "metadata": {
        "colab": {
          "base_uri": "https://localhost:8080/"
        },
        "id": "VWzIAbLj_Jv3",
        "outputId": "8e965d72-6cc6-4b3d-c1da-b249a2d9c267"
      },
      "source": [
        "type(True)"
      ],
      "execution_count": null,
      "outputs": [
        {
          "output_type": "execute_result",
          "data": {
            "text/plain": [
              "bool"
            ]
          },
          "metadata": {
            "tags": []
          },
          "execution_count": 17
        }
      ]
    },
    {
      "cell_type": "markdown",
      "metadata": {
        "id": "_bpM8hbY_fwK"
      },
      "source": [
        "##**큰 따옴표** "
      ]
    },
    {
      "cell_type": "markdown",
      "metadata": {
        "id": "87WJ70UC_oCP"
      },
      "source": [
        "입력"
      ]
    },
    {
      "cell_type": "markdown",
      "metadata": {
        "id": "7DX_6gPs_qKJ"
      },
      "source": [
        "#**작은 따옴표** "
      ]
    },
    {
      "cell_type": "markdown",
      "metadata": {
        "id": "79o2d762_wvO"
      },
      "source": [
        "작은 따옴표 3개 : 문장 입력 가능"
      ]
    },
    {
      "cell_type": "markdown",
      "metadata": {
        "id": "VmhSUvkjABE2"
      },
      "source": [
        "#참/거짓"
      ]
    },
    {
      "cell_type": "code",
      "metadata": {
        "colab": {
          "base_uri": "https://localhost:8080/"
        },
        "id": "YXmopoFEAFWT",
        "outputId": "d82a5b19-ae46-42cb-e695-d0bdd3a32627"
      },
      "source": [
        "1 == True"
      ],
      "execution_count": null,
      "outputs": [
        {
          "output_type": "execute_result",
          "data": {
            "text/plain": [
              "True"
            ]
          },
          "metadata": {
            "tags": []
          },
          "execution_count": 18
        }
      ]
    },
    {
      "cell_type": "code",
      "metadata": {
        "colab": {
          "base_uri": "https://localhost:8080/"
        },
        "id": "zy6oOrSIAH0d",
        "outputId": "e4a41b00-c99a-4e85-a9bf-4490cfb94633"
      },
      "source": [
        "0 == False"
      ],
      "execution_count": null,
      "outputs": [
        {
          "output_type": "execute_result",
          "data": {
            "text/plain": [
              "True"
            ]
          },
          "metadata": {
            "tags": []
          },
          "execution_count": 19
        }
      ]
    },
    {
      "cell_type": "markdown",
      "metadata": {
        "id": "ZMrFxLvvAL8_"
      },
      "source": [
        "# 아무것도 아닌 None 타입"
      ]
    },
    {
      "cell_type": "code",
      "metadata": {
        "id": "1SUqV_b9AQKq"
      },
      "source": [
        "a = None"
      ],
      "execution_count": null,
      "outputs": []
    },
    {
      "cell_type": "code",
      "metadata": {
        "colab": {
          "base_uri": "https://localhost:8080/"
        },
        "id": "bmtlXEErASL1",
        "outputId": "b8d81829-954b-4d34-8052-6badc3e00069"
      },
      "source": [
        "type(a)"
      ],
      "execution_count": null,
      "outputs": [
        {
          "output_type": "execute_result",
          "data": {
            "text/plain": [
              "NoneType"
            ]
          },
          "metadata": {
            "tags": []
          },
          "execution_count": 21
        }
      ]
    },
    {
      "cell_type": "markdown",
      "metadata": {
        "id": "BAcRiZ1KAxTJ"
      },
      "source": [
        "파이썬에서 **0이 아닌 값은 모두  True** 로 간주한다"
      ]
    },
    {
      "cell_type": "code",
      "metadata": {
        "colab": {
          "base_uri": "https://localhost:8080/"
        },
        "id": "7L7Z-JnnA70O",
        "outputId": "837f1371-be5d-48a4-f5d6-1919c68686b1"
      },
      "source": [
        "bool(1)"
      ],
      "execution_count": null,
      "outputs": [
        {
          "output_type": "execute_result",
          "data": {
            "text/plain": [
              "True"
            ]
          },
          "metadata": {
            "tags": []
          },
          "execution_count": 25
        }
      ]
    },
    {
      "cell_type": "code",
      "metadata": {
        "colab": {
          "base_uri": "https://localhost:8080/"
        },
        "id": "g9sCCRZ4A_Ie",
        "outputId": "9a91d758-55ab-45a0-ce67-b5674164f77e"
      },
      "source": [
        "bool(-10)"
      ],
      "execution_count": null,
      "outputs": [
        {
          "output_type": "execute_result",
          "data": {
            "text/plain": [
              "True"
            ]
          },
          "metadata": {
            "tags": []
          },
          "execution_count": 26
        }
      ]
    },
    {
      "cell_type": "code",
      "metadata": {
        "colab": {
          "base_uri": "https://localhost:8080/"
        },
        "id": "BazIkmgUBAsx",
        "outputId": "d0c50251-cd55-46e3-88f7-ecca39dde2f3"
      },
      "source": [
        "bool(0)"
      ],
      "execution_count": null,
      "outputs": [
        {
          "output_type": "execute_result",
          "data": {
            "text/plain": [
              "False"
            ]
          },
          "metadata": {
            "tags": []
          },
          "execution_count": 27
        }
      ]
    }
  ]
}